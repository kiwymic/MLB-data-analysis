{
 "cells": [
  {
   "cell_type": "markdown",
   "id": "a4da7016",
   "metadata": {},
   "source": [
    "# Scraping data from Retrosheet.org\n",
    "\n",
    "The goal is to scrape all the batter and pitcher split data from the website Retrosheet.org"
   ]
  },
  {
   "cell_type": "code",
   "execution_count": null,
   "id": "9628cada",
   "metadata": {},
   "outputs": [],
   "source": [
    "from bs4 import BeautifulSoup;\n",
    "import requests;\n",
    "import re;\n",
    "\n",
    "headers = {'User-Agent': 'Mozilla/5.0 (Windows NT 10.0; \\\n",
    "    Win64; x64) AppleWebKit/537.36 (KHTML, like Gecko) Chrome/88.0.4324.104 Safari/537.36'};\n",
    "\n",
    "initials = [ \\\n",
    "    \"AA\", \"AB\", \"AC\", \"AD\", \"AF\", \"AG\", \"AH\", \"AI\", \"AK\", \"AL\", \"AM\", \"AN\", \"AO\",\\\n",
    "    \"AP\", \"AQ\", \"AR\", \"AS\", \"AT\", \"AU\", \"AV\", \"AX\", \"AY\", \"AZ\", \"BA\", \"BE\", \"BI\",\\\n",
    "    \"BJ\", \"BL\", \"BO\", \"BR\", \"BU\", \"BY\", \"CA\", \"CE\", \"CH\", \"CI\", \"CL\", \"CO\", \"CR\",\\\n",
    "    \"CU\", \"CV\", \"CY\", \"CZ\", \"DA\", \"DE\", \"DI\", \"DL\", \"DO\", \"DR\", \"DU\", \"DW\", \"DY\",\\\n",
    "    \"EA\", \"EB\", \"EC\", \"ED\", \"EE\", \"EF\", \"EG\", \"EH\", \"EI\", \"EK\", \"EL\", \"EM\", \"EN\",\\\n",
    "    \"EO\", \"EP\", \"ER\", \"ES\", \"ET\", \"EU\", \"EV\", \"EW\", \"EX\", \"EY\", \"EZ\", \"FA\", \"FE\",\\\n",
    "    \"FI\", \"FL\", \"FO\", \"FR\", \"FU\", \"FY\", \"GA\", \"GE\", \"GH\", \"GI\", \"GL\", \"GO\", \"GR\",\\\n",
    "    \"GS\", \"GU\", \"GW\", \"GY\", \"HA\", \"HE\", \"HI\", \"HO\", \"HR\", \"HU\", \"HW\", \"HY\", \"IA\",\\\n",
    "    \"IB\", \"IG\", \"IL\", \"IM\", \"IN\", \"IO\", \"IR\", \"IS\", \"IV\", \"IW\", \"IZ\", \"JA\", \"JE\",\\\n",
    "    \"JI\", \"JO\", \"JU\", \"KA\", \"KE\", \"KH\", \"KI\", \"KL\", \"KM\", \"KN\", \"KO\", \"KR\", \"KU\",\\\n",
    "    \"KV\", \"KW\", \"KY\", \"LA\", \"LE\", \"LI\", \"LL\", \"LO\", \"LU\", \"LY\", \"MA\", \"MC\", \"ME\",\\\n",
    "    \"MI\", \"ML\", \"MM\", \"MO\", \"MR\", \"MU\", \"MY\", \"NA\", \"NE\", \"NG\", \"NI\", \"NO\", \"NU\",\\\n",
    "    \"NY\", \"OA\", \"OB\", \"OC\", \"OD\", \"OE\", \"OF\", \"OG\", \"OH\", \"OJ\", \"OK\", \"OL\", \"OM\",\\\n",
    "    \"ON\", \"OQ\", \"OR\", \"OS\", \"OT\", \"OU\", \"OV\", \"OW\", \"OX\", \"OY\", \"OZ\", \"PA\", \"PE\",\\\n",
    "    \"PF\", \"PH\", \"PI\", \"PL\", \"PO\", \"PR\", \"PU\", \"PY\", \"QU\", \"RA\", \"RE\", \"RH\", \"RI\",\\\n",
    "    \"RL\", \"RO\", \"RU\", \"RY\", \"RZ\", \"SA\", \"SB\", \"SC\", \"SE\", \"SH\", \"SI\", \"SK\", \"SL\",\\\n",
    "    \"SM\", \"SN\", \"SO\", \"SP\", \"SQ\", \"ST\", \"SU\", \"SV\", \"SW\", \"SY\", \"SZ\", \"TA\", \"TE\",\\\n",
    "    \"TH\", \"TI\", \"TO\", \"TR\", \"TS\", \"TU\", \"TW\", \"TY\", \"UC\", \"UE\", \"UG\", \"UH\", \"UJ\",\\\n",
    "    \"UL\", \"UM\", \"UN\", \"UP\", \"UR\", \"US\", \"UT\", \"VA\", \"VE\", \"VI\", \"VO\", \"VU\", \"WA\",\\\n",
    "    \"WE\", \"WH\", \"WI\", \"WO\", \"WR\", \"WU\", \"WY\", \"YA\", \"YD\", \"YE\", \"YI\", \"YN\", \"YO\",\\\n",
    "    \"YU\", \"YV\", \"ZA\", \"ZD\", \"ZE\", \"ZI\", \"ZM\", \"ZO\", \"ZU\", \"ZW\", \"ZY\"];\n",
    "# len = 271\n",
    "# Might not be a good implementation, since new initials will be added in the future.\n",
    "# Better to be able to fetch this list automatically.\n",
    "\n",
    "# Generate a list of pages containing the player pages grouped by initials\n",
    "player_ini_page = [f\"https://www.retrosheet.org/boxesetc/MISC/PLD_{init}.htm\" for init in initials];\n",
    "retro_page_affix = \"https://www.retrosheet.org/boxesetc/\"\n",
    "\n",
    "player_urls = [];\n",
    "# Scrape the urls for each player.\n",
    "for url in player_ini_page:\n",
    "    response = requests.get(url, headers=headers);\n",
    "    text = BeautifulSoup(response.text, 'html.parser');\n",
    "    \n",
    "    if response.status_code != 200:\n",
    "        raise Exception(f\"The status code is not 200! It is {response.status_code}.\");\n",
    "    \n",
    "    player_list = text.find_all(\"pre\")[0].find_all('a')\n",
    "    player_urlt = [retro_page_affix + tag.get(\"href\")[3:] for tag in player_list]; # Some alignments\n",
    "    info_list = [tag.getText() for tag in player_list];\n",
    "    info_list = [[int(info[0:4]), int(info[5:9]), info[10:].split(',')[0]] for info in info_list];\n",
    "\n",
    "    player_urls.extend(list(map(lambda x, y: x+[y], info_list, player_urlt)));\n",
    "\n"
   ]
  },
  {
   "cell_type": "markdown",
   "id": "244213ce",
   "metadata": {},
   "source": [
    "## Saving the player url data to Pandas dataframe and a .csv file."
   ]
  },
  {
   "cell_type": "code",
   "execution_count": null,
   "id": "7a88dfab",
   "metadata": {},
   "outputs": [],
   "source": [
    "import pandas as pd;\n",
    "import numpy as np;\n",
    "\n",
    "df_player_urls = pd.DataFrame(np.array(player_urls), columns = [\"start_season\", \"end_season\", \"Name\", \"Url\"]);\n",
    "df_player_urls"
   ]
  },
  {
   "cell_type": "code",
   "execution_count": null,
   "id": "f517ae04",
   "metadata": {},
   "outputs": [],
   "source": [
    "df_player_urls.to_csv(\"players_url.csv\");"
   ]
  },
  {
   "cell_type": "code",
   "execution_count": null,
   "id": "6041d0a0",
   "metadata": {},
   "outputs": [],
   "source": [
    "df_player_urls[\"start_season\"].apply(int);\n"
   ]
  },
  {
   "cell_type": "markdown",
   "id": "4dd78e11",
   "metadata": {},
   "source": [
    "## Parsing the url page"
   ]
  },
  {
   "cell_type": "code",
   "execution_count": null,
   "id": "09a113a5",
   "metadata": {},
   "outputs": [],
   "source": [
    "df_player_yearly_stats = pd.DataFrame(columns = [\"ID\", \"Name\", \"Season\", \"Team\", \"split_url\"]);\n",
    "df_player_career_stats = pd.DataFrame(columns = [\"ID\", \"Name\", \"split_url\"]);"
   ]
  },
  {
   "cell_type": "code",
   "execution_count": null,
   "id": "3f35d7a6",
   "metadata": {},
   "outputs": [],
   "source": [
    "for ind in df_player_urls.index:\n",
    "    player_name = df_player_urls.loc[ind, \"Name\"];\n",
    "    url = df_player_urls.loc[ind, \"Url\"];\n",
    "    \n",
    "    response = requests.get(url, headers=headers);\n",
    "    text = BeautifulSoup(response.text, 'html.parser');\n",
    "    \n",
    "    if response.status_code != 200:\n",
    "        raise Exception(f\"The status code is not 200! It is {response.status_code}.\");\n",
    "        \n",
    "    a = text.findAll(\"pre\");\n",
    "    for ta in a:\n",
    "        if ta.get_text().find(\"Batting Record\") != -1:\n",
    "            print(\"Found batting record for \" + player_name + \".\");\n",
    "            break;\n",
    "\n",
    "    batting_links = ta.findAll(\"a\");\n",
    "\n",
    "    links_counter = False;\n",
    "    career_list = [];\n",
    "    split_link = \"\";\n",
    "    for i in range(len(batting_links)):\n",
    "        if batting_links[i].string == \"Splits\":\n",
    "            links_counter = True;\n",
    "            split_link = retro_page_affix + batting_links[i].get(\"href\")[3:];\n",
    "        elif batting_links[i].string.isnumeric() and links_counter:\n",
    "            split_year = int(batting_links[i].string);\n",
    "            print(split_year);\n",
    "        elif links_counter:\n",
    "            links_counter = False;\n",
    "            career_list.append([ind, player_name, split_year, batting_links[i].string, split_link]);\n",
    "    \n",
    "    df_player_yearly_stats = df_player_yearly_stats.append(pd.DataFrame(career_list[0:], columns = df_player_yearly_stats.columns));\n",
    "    if split_link != \"\":\n",
    "        df_player_career_stats.loc[len(df_player_career_stats)] = [ind, player_name, split_link];\n"
   ]
  },
  {
   "cell_type": "code",
   "execution_count": null,
   "id": "66f586f8",
   "metadata": {},
   "outputs": [],
   "source": [
    "df_player_career_stats.to_csv(\"player_career_split_url.csv\");"
   ]
  },
  {
   "cell_type": "code",
   "execution_count": null,
   "id": "317175d9",
   "metadata": {},
   "outputs": [],
   "source": [
    "df_player_yearly_stats.to_csv(\"player_season_split_url.csv\");"
   ]
  }
 ],
 "metadata": {
  "kernelspec": {
   "display_name": "Python 3",
   "language": "python",
   "name": "python3"
  },
  "language_info": {
   "codemirror_mode": {
    "name": "ipython",
    "version": 3
   },
   "file_extension": ".py",
   "mimetype": "text/x-python",
   "name": "python",
   "nbconvert_exporter": "python",
   "pygments_lexer": "ipython3",
   "version": "3.8.8"
  }
 },
 "nbformat": 4,
 "nbformat_minor": 5
}
