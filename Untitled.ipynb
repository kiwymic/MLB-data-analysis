{
 "cells": [
  {
   "cell_type": "markdown",
   "id": "980e2440",
   "metadata": {},
   "source": [
    "# Scraping data from Retrosheet.org\n",
    "\n",
    "The goal is to scrape all the batter and pitcher split data from the website Retrosheet.org"
   ]
  }
 ],
 "metadata": {
  "kernelspec": {
   "display_name": "Python 3",
   "language": "python",
   "name": "python3"
  },
  "language_info": {
   "codemirror_mode": {
    "name": "ipython",
    "version": 3
   },
   "file_extension": ".py",
   "mimetype": "text/x-python",
   "name": "python",
   "nbconvert_exporter": "python",
   "pygments_lexer": "ipython3",
   "version": "3.8.8"
  }
 },
 "nbformat": 4,
 "nbformat_minor": 5
}
