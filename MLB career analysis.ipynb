{
 "cells": [
  {
   "cell_type": "markdown",
   "id": "0b95b09e",
   "metadata": {},
   "source": [
    "# MLB data analysis 1: Using the career split data"
   ]
  },
  {
   "cell_type": "code",
   "execution_count": 179,
   "id": "9f1d062f",
   "metadata": {},
   "outputs": [],
   "source": [
    "import pandas as pd;\n",
    "import numpy as np;\n",
    "\n",
    "from matplotlib import pyplot as plt\n",
    "plt.style.use('ggplot');\n",
    "import scipy.stats as stats\n",
    "import scipy as sp;\n",
    "\n",
    "columns_career = [\"ID\", \"Name\", \"Situation\", \"G\", \"AB\", \"R\", \"H\", \"2B\", \"3B\", \"HR\", \"RBI\", \"BB\", \"IBB\", \"SO\", \"HBP\", \"SH\", \\\n",
    "                 \"SF\", \"XI\", \"ROE\", \"GDP\", \"SB\", \"CS\", \"AVG\", \"OBP\", \"SLG\"]; # len() = 25\n",
    "columns_dtype = [str]*3 + [np.float64]*22;\n",
    "\n",
    "columns_dtype_dict = dict(zip(columns_career, columns_dtype));"
   ]
  },
  {
   "cell_type": "code",
   "execution_count": 38,
   "id": "89eac968",
   "metadata": {},
   "outputs": [],
   "source": [
    "df_player_career_split = pd.read_csv(\"player_career_split_data.csv\", usecols = columns_career, dtype = columns_dtype_dict);"
   ]
  },
  {
   "cell_type": "markdown",
   "id": "aacb27ed",
   "metadata": {},
   "source": [
    "## Testing if two binomial distributions are equal\n",
    "\n",
    "We first formulate what we are trying to test. Suppose a batter's hitting average in non-RISP and RISP are $p_1$ and $p_2$, respectively, then our null hypothesis is\n",
    "\n",
    "$$H_0: p_1 = p_2, \\quad\\text{ i.e. a batter is no stronger in clutch (RISP)}.$$\n",
    "\n",
    "On the other hand, our alternative hypothesis is\n",
    "\n",
    "$$H_A: p_1 < p_2, \\quad\\text{ i.e. a batter is stronger in clutch (RISP)}.$$\n",
    "\n",
    "According to the literature (see, for instance, [here](https://stats.stackexchange.com/questions/113602/test-if-two-binomial-distributions-are-statistically-different-from-each-other) for a stackoverflow discussion), there are two major ways to determined if the two binomial distributions are identical.\n",
    "\n",
    "1. Approximate the binomial distribution to a normal distribution. Suppose the sample size is $N$, and the probability is $p$, then as a rule of thumb, the binomial distribution is \"close enough\" to a normal distribution only if $Np, N(1-p)$ are both about 10 or larger. Since in baseball $p < 0.5$, we requested $N > 30$ for a better approximation.\n",
    "\n",
    "    For a player, if the AB of non-RISP and RISP are $N_1$ and $N_2$, respectively, then the weighted average is $\\displaystyle \\hat p = \\frac{N_1p_1 + N_2p_2}{N_1 + N_2}$, and the variance is $\\displaystyle \\sigma^2 = \\hat p(1 - \\hat p)\\left(\\frac{}{}\\right)$. Under the assumption that $p_1 = p_2$, one can estimate the variance of the distributions and obtain the $z$-value as\n",
    "    \n",
    "    $$z = \\frac{\\hat p_2 - \\hat p_1}{\\sqrt{\\hat p(1-\\hat p)\\left(N_1^{-1} + N_2^{-1}\\right)}}.$$\n",
    "    \n",
    "    By passing the $z$-value to the error function, once can obtain the one-sided $p$-value. See the NIST document at the end for more information.\n",
    "    \n",
    "2. Using the Fisher's exact test. First, we have to set up a $2\\times2$ contingency matrix, which is\n",
    "    $$\\begin{bmatrix}\\#\\{\\text{non-hits in non-RISP}\\} & \\#\\{\\text{non-hits in RISP}\\} \\\\ \\#\\{\\text{hits in non-RISP}\\} & \\#\\{\\text{hits in RISP}\\}\\end{bmatrix}.$$\n",
    "    \n",
    "    Fisher's idea is based on a model on hypergeobetric series, but we skip the details. Using the built-in function from scipy, we can compute an one-sided $p$-value.\n",
    "\n",
    "Comparing methods 1 and 2, Fisher's test had no assumptions which approximates a binomial distribution as a normal distribution, so it can be appropriate for smaller sample size, but it becomes slow for larger sample size."
   ]
  },
  {
   "cell_type": "code",
   "execution_count": 156,
   "id": "a16d0fde",
   "metadata": {},
   "outputs": [
    {
     "name": "stdout",
     "output_type": "stream",
     "text": [
      "6995\n"
     ]
    }
   ],
   "source": [
    "AB_threshold = 30;\n",
    "\n",
    "temp = df_player_career_split[df_player_career_split[\"Situation\"] == \"RISP\"];\n",
    "temp = temp[temp[\"AB\"] >= AB_threshold];\n",
    "\n",
    "RISP_comp = pd.merge(df_player_career_split[df_player_career_split[\"Situation\"] == \"Total\"], temp, on = \"ID\");\n",
    "# RISP_comp.loc[0] # Total: 3771, 12364, 964, 2956\n",
    "#.merge(df_player_career_split[df_player_career_split[\"Situation\"] == \"RISP\"], on = \"ID\")\n",
    "\n",
    "\n",
    "print(RISP_comp.shape[0]-1)\n"
   ]
  },
  {
   "cell_type": "markdown",
   "id": "5549e237",
   "metadata": {},
   "source": [
    "### 2. The Fisher exact method"
   ]
  },
  {
   "cell_type": "code",
   "execution_count": 180,
   "id": "cf3670d2",
   "metadata": {},
   "outputs": [],
   "source": [
    "p_RISP = [];\n",
    "for i in range(RISP_comp.shape[0]):\n",
    "    temp_list = RISP_comp.loc[i, [\"AB_x\", \"H_x\", \"AB_y\", \"H_y\"]];\n",
    "    res = stats.fisher_exact([[temp_list[1]-temp_list[3], temp_list[3]], \\\n",
    "                              [temp_list[0]-temp_list[2]-(temp_list[1]-temp_list[3]), temp_list[2]-temp_list[3]]], \\\n",
    "                             alternative=\"greater\")[1];\n",
    "    p_RISP.append(res);"
   ]
  },
  {
   "cell_type": "markdown",
   "id": "da22c31a",
   "metadata": {},
   "source": [
    "### Tracing $p$-values throughout the player database\n",
    "\n",
    "The assumption we are actually interested is:\n",
    "\n",
    "*For every batter, the null hypothesis $H_0: p_\\text{RISP} = p_\\text{non-RISP}$ holds true*.\n",
    "\n",
    "In this case, if we use either method above, the $p$-values computed by each player should be an uniform distribution in $[0,1]$. We can test this hypothesis using the $\\chi$-squared test."
   ]
  },
  {
   "cell_type": "code",
   "execution_count": 158,
   "id": "035d6b79",
   "metadata": {},
   "outputs": [
    {
     "data": {
      "text/plain": [
       "KstestResult(statistic=0.08506902691461204, pvalue=1.7046376806880028e-44)"
      ]
     },
     "execution_count": 158,
     "metadata": {},
     "output_type": "execute_result"
    },
    {
     "data": {
      "image/png": "[encoded data removed]",
      "text/plain": [
       "<Figure size 432x288 with 1 Axes>"
      ]
     },
     "metadata": {},
     "output_type": "display_data"
    }
   ],
   "source": [
    "test = sorted(p_RISP)\n",
    "plt.plot(test)\n",
    "\n",
    "stats.kstest(test, stats.uniform(loc=0.0).cdf) # 1.70e-44\n",
    "# This means that the null hypothesis should be rejected... But wait?"
   ]
  },
  {
   "cell_type": "markdown",
   "id": "6a2658e4",
   "metadata": {},
   "source": [
    "### Now, let us try to implement the method \"1. Approximation to normal distribution\""
   ]
  },
  {
   "cell_type": "code",
   "execution_count": 192,
   "id": "fb529d70",
   "metadata": {},
   "outputs": [],
   "source": [
    "def Phi(x): # The cdf of the normal distribution N(0,1).\n",
    "    return (1+sp.special.erf(x/2**0.5))/2;\n",
    "\n",
    "def Binomial_p_val(x1, x2, N1, N2, adjust=False): # In our application, N1: non-RISP, N2: RISP\n",
    "    p1 = x1/N1;\n",
    "    p2 = x2/N2;\n",
    "    if adjust:\n",
    "        p2 = p2/theta;\n",
    "    \n",
    "    phat = (p1*N1 + p2*N2)/(N1 + N2);\n",
    "    return Phi((p2-p1)/np.sqrt(phat*(1-phat)*(1/N1+1/N2)));"
   ]
  },
  {
   "cell_type": "code",
   "execution_count": 205,
   "id": "918331ba",
   "metadata": {},
   "outputs": [],
   "source": [
    "p_RISP_2 = [];\n",
    "p_RISP_3 = [];\n",
    "for i in range(RISP_comp.shape[0]):\n",
    "    temp_list = RISP_comp.loc[i, [\"AB_x\", \"H_x\", \"AB_y\", \"H_y\"]];\n",
    "    res2 = Binomial_p_val(temp_list[1]-temp_list[3], temp_list[3], temp_list[0]-temp_list[2], temp_list[2], False);\n",
    "    res3 = Binomial_p_val(temp_list[1]-temp_list[3], temp_list[3], temp_list[0]-temp_list[2], temp_list[2], True);\n",
    "    p_RISP_2.append(res2);\n",
    "    p_RISP_3.append(res3);"
   ]
  },
  {
   "cell_type": "code",
   "execution_count": 206,
   "id": "91b0d7fe",
   "metadata": {},
   "outputs": [
    {
     "data": {
      "text/plain": [
       "KstestResult(statistic=0.036174849581674495, pvalue=2.1700448058883414e-08)"
      ]
     },
     "execution_count": 206,
     "metadata": {},
     "output_type": "execute_result"
    },
    {
     "data": {
      "image/png": "[encoded data removed]",
      "text/plain": [
       "<Figure size 432x288 with 1 Axes>"
      ]
     },
     "metadata": {},
     "output_type": "display_data"
    }
   ],
   "source": [
    "test = sorted(p_RISP_2)\n",
    "plt.plot(test)\n",
    "\n",
    "stats.kstest(test, stats.uniform(loc=0.0).cdf) #\n",
    "# This means that the null hypothesis should be rejected... But wait?"
   ]
  },
  {
   "cell_type": "code",
   "execution_count": 207,
   "id": "ea9a0d19",
   "metadata": {},
   "outputs": [
    {
     "data": {
      "text/plain": [
       "KstestResult(statistic=0.013475397125518318, pvalue=0.1561262243686563)"
      ]
     },
     "execution_count": 207,
     "metadata": {},
     "output_type": "execute_result"
    },
    {
     "data": {
      "image/png": "[encoded data removed]",
      "text/plain": [
       "<Figure size 432x288 with 1 Axes>"
      ]
     },
     "metadata": {},
     "output_type": "display_data"
    }
   ],
   "source": [
    "test = sorted(p_RISP_3)\n",
    "plt.plot(test)\n",
    "\n",
    "stats.kstest(test, stats.uniform(loc=0.0).cdf) #\n",
    "# This means that the null hypothesis should be rejected... But wait?"
   ]
  },
  {
   "cell_type": "markdown",
   "id": "bee53987",
   "metadata": {},
   "source": [
    "### It turns out that the hitting average at RISP is globally higher than at non-RISP. Can we adjust to that?\n",
    "\n",
    "Unfortunately, things get a bit messy on that. I do not know of any rigorous mathematical model for that, but let's try..."
   ]
  },
  {
   "cell_type": "code",
   "execution_count": 172,
   "id": "005eda95",
   "metadata": {},
   "outputs": [],
   "source": [
    "# First idea: Try to multiply the AVG by a constant factor to balance the average in non-RISP and RISP.\n",
    "# Equivalently, p_RISP = theta * p_nonRISP\n",
    "test1 = [sum(RISP_comp[item]) for item in [\"AB_x\", \"H_x\", \"AB_y\", \"H_y\"]]; #12715568, 3348091, 3022597, 802629\n",
    "\n",
    "test1 = [test1[1]/test1[0], test1[3]/test1[2], (test1[1]-test1[3])/(test1[0]-test1[2])]; #.2633, .2655, .2626\n",
    "#theta = test1[1]/test1[2]; # 1.0111716751056685\n",
    "theta_RISP = 1.0111716751056685;"
   ]
  },
  {
   "cell_type": "code",
   "execution_count": 208,
   "id": "4e34e639",
   "metadata": {},
   "outputs": [
    {
     "data": {
      "text/plain": [
       "5"
      ]
     },
     "execution_count": 208,
     "metadata": {},
     "output_type": "execute_result"
    }
   ],
   "source": [
    "2+3"
   ]
  },
  {
   "cell_type": "markdown",
   "id": "85216a5b",
   "metadata": {},
   "source": [
    "## Some statistical references\n",
    "\n",
    "- How can we determine whether two processes produce the same proportion of defectives? From NIST\n",
    "    https://www.itl.nist.gov/div898/handbook/prc/section3/prc33.htm\n",
    "- Fischer's exact test (have implementation in scipy)\n",
    "    https://en.wikipedia.org/wiki/Fisher's_exact_test\n",
    "- Barnard's test (have documentation in scipy, but the function seemed to be removed)\n",
    "    https://en.wikipedia.org/wiki/Barnard%27s_test\n"
   ]
  }
 ],
 "metadata": {
  "kernelspec": {
   "display_name": "Python 3",
   "language": "python",
   "name": "python3"
  },
  "language_info": {
   "codemirror_mode": {
    "name": "ipython",
    "version": 3
   },
   "file_extension": ".py",
   "mimetype": "text/x-python",
   "name": "python",
   "nbconvert_exporter": "python",
   "pygments_lexer": "ipython3",
   "version": "3.8.8"
  }
 },
 "nbformat": 4,
 "nbformat_minor": 5
}
