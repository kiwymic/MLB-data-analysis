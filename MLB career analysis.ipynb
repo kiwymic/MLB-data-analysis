{
 "cells": [
  {
   "cell_type": "markdown",
   "id": "dd8cfe87",
   "metadata": {},
   "source": [
    "# MLB data analysis 1: Using the career split data"
   ]
  },
  {
   "cell_type": "code",
   "execution_count": 297,
   "id": "fc47dbdf",
   "metadata": {},
   "outputs": [],
   "source": [
    "import pandas as pd;\n",
    "import numpy as np;\n",
    "\n",
    "from matplotlib import pyplot as plt\n",
    "plt.style.use('ggplot');\n",
    "import scipy.stats as stats\n",
    "import scipy as sp;\n",
    "\n",
    "import seaborn as sns;\n",
    "\n",
    "columns_career = [\"ID\", \"Name\", \"Situation\", \"G\", \"AB\", \"R\", \"H\", \"2B\", \"3B\", \"HR\", \"RBI\", \"BB\", \"IBB\", \"SO\", \"HBP\", \"SH\", \\\n",
    "                 \"SF\", \"XI\", \"ROE\", \"GDP\", \"SB\", \"CS\", \"AVG\", \"OBP\", \"SLG\"]; # len() = 25\n",
    "columns_dtype = [str]*3 + [np.float64]*22;\n",
    "\n",
    "columns_dtype_dict = dict(zip(columns_career, columns_dtype));"
   ]
  },
  {
   "cell_type": "code",
   "execution_count": 38,
   "id": "7aea7784",
   "metadata": {},
   "outputs": [],
   "source": [
    "df_player_career_split = pd.read_csv(\"player_career_split_data.csv\", usecols = columns_career, dtype = columns_dtype_dict);"
   ]
  },
  {
   "cell_type": "markdown",
   "id": "6e93c212",
   "metadata": {},
   "source": [
    "## Testing if two binomial distributions are equal\n",
    "\n",
    "We first formulate what we are trying to test. Suppose a batter's hitting average in non-RISP and RISP are $p_1$ and $p_2$, respectively, then our null hypothesis is\n",
    "\n",
    "$$H_0: p_1 = p_2, \\quad\\text{ i.e. a batter is no stronger in clutch (RISP)}.$$\n",
    "\n",
    "On the other hand, our alternative hypothesis is\n",
    "\n",
    "$$H_A: p_1 < p_2, \\quad\\text{ i.e. a batter is stronger in clutch (RISP)}.$$\n",
    "\n",
    "According to the literature (see, for instance, [here](https://stats.stackexchange.com/questions/113602/test-if-two-binomial-distributions-are-statistically-different-from-each-other) for a stackoverflow discussion), there are two major ways to determined if the two binomial distributions are identical.\n",
    "\n",
    "1. Approximate the binomial distribution to a normal distribution. Suppose the sample size is $N$, and the probability is $p$, then as a rule of thumb, the binomial distribution is \"close enough\" to a normal distribution only if $Np, N(1-p)$ are both about 10 or larger. Since in baseball $p < 0.5$, we requested $N > 30$ for a better approximation.\n",
    "\n",
    "    For a player, if the AB of non-RISP and RISP are $N_1$ and $N_2$, respectively, then the weighted average is $\\displaystyle \\hat p = \\frac{N_1p_1 + N_2p_2}{N_1 + N_2}$. Also, under the assumption that $p_1 = p_2$, one can estimate the variance of the distributions and obtain the $z$-value as\n",
    "    \n",
    "    $$z = \\frac{\\hat p_2 - \\hat p_1}{\\sqrt{\\hat p(1-\\hat p)\\left(N_1^{-1} + N_2^{-1}\\right)}}.$$\n",
    "    \n",
    "    By passing the $z$-value to the error function, once can obtain the one-sided $p$-value. See the NIST document at the end for more information.\n",
    "    \n",
    "2. Using the Fisher's exact test. First, we have to set up a $2\\times2$ contingency matrix, which is\n",
    "    $$\\begin{bmatrix}\\#\\{\\text{non-hits in non-RISP}\\} & \\#\\{\\text{non-hits in RISP}\\} \\\\ \\#\\{\\text{hits in non-RISP}\\} & \\#\\{\\text{hits in RISP}\\}\\end{bmatrix}.$$\n",
    "    \n",
    "    Fisher's idea is based on a model on hypergeobetric series, but we skip the details. Using the built-in function from scipy, we can compute an one-sided $p$-value.\n",
    "\n",
    "Comparing methods 1 and 2, Fisher's test had no assumptions which approximates a binomial distribution as a normal distribution, so it can be appropriate for smaller sample size, but it becomes slow for larger sample size."
   ]
  },
  {
   "cell_type": "code",
   "execution_count": 243,
   "id": "ce552ebc",
   "metadata": {},
   "outputs": [
    {
     "name": "stdout",
     "output_type": "stream",
     "text": [
      "6995\n"
     ]
    }
   ],
   "source": [
    "AB_threshold = 30;\n",
    "\n",
    "temp = df_player_career_split[df_player_career_split[\"Situation\"] == \"RISP\"];\n",
    "temp = temp[temp[\"AB\"] >= AB_threshold];\n",
    "\n",
    "RISP_comp = pd.merge(df_player_career_split[df_player_career_split[\"Situation\"] == \"Total\"], temp, on = \"ID\");\n",
    "# RISP_comp.loc[0] # Total: 3771, 12364, 964, 2956\n",
    "#.merge(df_player_career_split[df_player_career_split[\"Situation\"] == \"RISP\"], on = \"ID\")\n",
    "\n",
    "\n",
    "print(RISP_comp.shape[0]-1)\n"
   ]
  },
  {
   "cell_type": "markdown",
   "id": "f8e61a3e",
   "metadata": {},
   "source": [
    "### 2. The Fisher exact method"
   ]
  },
  {
   "cell_type": "code",
   "execution_count": 180,
   "id": "a35c24dc",
   "metadata": {},
   "outputs": [],
   "source": [
    "p_RISP = [];\n",
    "for i in range(RISP_comp.shape[0]):\n",
    "    temp_list = RISP_comp.loc[i, [\"AB_x\", \"H_x\", \"AB_y\", \"H_y\"]];\n",
    "    res = stats.fisher_exact([[temp_list[1]-temp_list[3], temp_list[3]], \\\n",
    "                              [temp_list[0]-temp_list[2]-(temp_list[1]-temp_list[3]), temp_list[2]-temp_list[3]]], \\\n",
    "                             alternative=\"greater\")[1];\n",
    "    p_RISP.append(res);"
   ]
  },
  {
   "cell_type": "markdown",
   "id": "6e652e05",
   "metadata": {},
   "source": [
    "### Tracing $p$-values throughout the player database\n",
    "\n",
    "The assumption we are actually interested is:\n",
    "\n",
    "*For every batter, the null hypothesis $H_0: p_\\text{RISP} = p_\\text{non-RISP}$ holds true*.\n",
    "\n",
    "In this case, if we use either method above, the $p$-values computed by each player should be an uniform distribution in $[0,1]$. We can test this hypothesis using the $\\chi$-squared test."
   ]
  },
  {
   "cell_type": "code",
   "execution_count": 213,
   "id": "9f539a25",
   "metadata": {},
   "outputs": [
    {
     "data": {
      "text/plain": [
       "KstestResult(statistic=0.08506902691461204, pvalue=1.7046376806880028e-44)"
      ]
     },
     "execution_count": 213,
     "metadata": {},
     "output_type": "execute_result"
    },
    {
     "data": {
      "image/png": "[encoded data removed]",
      "text/plain": [
       "<Figure size 432x288 with 1 Axes>"
      ]
     },
     "metadata": {},
     "output_type": "display_data"
    }
   ],
   "source": [
    "test = sorted(p_RISP)\n",
    "plt.plot(test)\n",
    "\n",
    "stats.kstest(test, stats.uniform(loc=0.0).cdf) # 1.70e-44\n",
    "# This means that the null hypothesis should be rejected... But wait?"
   ]
  },
  {
   "cell_type": "code",
   "execution_count": 214,
   "id": "7071fa8d",
   "metadata": {},
   "outputs": [
    {
     "data": {
      "text/plain": [
       "(array([227., 282., 281., 282., 274., 328., 282., 343., 307., 337., 345.,\n",
       "        346., 333., 384., 382., 389., 421., 434., 437., 582.]),\n",
       " array([2.96194432e-05, 5.00276629e-02, 1.00025706e-01, 1.50023750e-01,\n",
       "        2.00021793e-01, 2.50019837e-01, 3.00017880e-01, 3.50015924e-01,\n",
       "        4.00013967e-01, 4.50012011e-01, 5.00010054e-01, 5.50008098e-01,\n",
       "        6.00006141e-01, 6.50004184e-01, 7.00002228e-01, 7.50000271e-01,\n",
       "        7.99998315e-01, 8.49996358e-01, 8.99994402e-01, 9.49992445e-01,\n",
       "        9.99990489e-01]),\n",
       " <BarContainer object of 20 artists>)"
      ]
     },
     "execution_count": 214,
     "metadata": {},
     "output_type": "execute_result"
    },
    {
     "data": {
      "image/png": "[encoded data removed]",
      "text/plain": [
       "<Figure size 432x288 with 1 Axes>"
      ]
     },
     "metadata": {},
     "output_type": "display_data"
    }
   ],
   "source": [
    "plt.hist(test, bins = 20, color = \"#a4b863\")"
   ]
  },
  {
   "cell_type": "markdown",
   "id": "f1d4473d",
   "metadata": {},
   "source": [
    "### It turns out that the hitting average at RISP is globally higher than at non-RISP. Can we adjust to that?\n",
    "\n",
    "Unfortunately, things get a bit messy on that. I do not know of any rigorous mathematical model for that, but let's try..."
   ]
  },
  {
   "cell_type": "code",
   "execution_count": 222,
   "id": "1760cb3e",
   "metadata": {},
   "outputs": [],
   "source": [
    "# First idea: Try to multiply the AVG by a constant factor to balance the average in non-RISP and RISP.\n",
    "# Equivalently, p_RISP = theta * p_nonRISP\n",
    "test1 = [sum(RISP_comp[item]) for item in [\"AB_x\", \"H_x\", \"AB_y\", \"H_y\"]]; #12715568, 3348091, 3022597, 802629\n",
    "\n",
    "test1 = [test1[1]/test1[0], test1[3]/test1[2], (test1[1]-test1[3])/(test1[0]-test1[2])]; #.2633, .2655, .2626\n",
    "#theta = test1[1]/test1[2]; # 1.0111716751056685\n",
    "theta = 1.0111716751056685;"
   ]
  },
  {
   "cell_type": "markdown",
   "id": "81a461c1",
   "metadata": {},
   "source": [
    "### Now, let us try to implement the method \"1. Approximation to normal distribution\""
   ]
  },
  {
   "cell_type": "code",
   "execution_count": 223,
   "id": "3d61d82b",
   "metadata": {},
   "outputs": [],
   "source": [
    "def Phi(x): # The cdf of the normal distribution N(0,1).\n",
    "    return (1+sp.special.erf(x/2**0.5))/2;\n",
    "\n",
    "def Binomial_p_val(x1, x2, N1, N2, theta=0): # In our application, N1: non-RISP, N2: RISP\n",
    "    p1 = x1/N1;\n",
    "    p2 = x2/N2;\n",
    "    if theta != 0:\n",
    "        p2 = p2/theta;\n",
    "    \n",
    "    phat = (p1*N1 + p2*N2)/(N1 + N2);\n",
    "    return Phi((p2-p1)/np.sqrt(phat*(1-phat)*(1/N1+1/N2)));"
   ]
  },
  {
   "cell_type": "code",
   "execution_count": 224,
   "id": "9c56be62",
   "metadata": {},
   "outputs": [],
   "source": [
    "p_RISP_2 = [];\n",
    "p_RISP_3 = [];\n",
    "for i in range(RISP_comp.shape[0]):\n",
    "    temp_list = RISP_comp.loc[i, [\"AB_x\", \"H_x\", \"AB_y\", \"H_y\"]];\n",
    "    res2 = Binomial_p_val(temp_list[1]-temp_list[3], temp_list[3], temp_list[0]-temp_list[2], temp_list[2], 0);\n",
    "    res3 = Binomial_p_val(temp_list[1]-temp_list[3], temp_list[3], temp_list[0]-temp_list[2], temp_list[2], theta);\n",
    "    p_RISP_2.append(res2);\n",
    "    p_RISP_3.append(res3);"
   ]
  },
  {
   "cell_type": "code",
   "execution_count": 225,
   "id": "3b35fe77",
   "metadata": {},
   "outputs": [
    {
     "data": {
      "text/plain": [
       "KstestResult(statistic=0.036174849581674495, pvalue=2.1700448058883414e-08)"
      ]
     },
     "execution_count": 225,
     "metadata": {},
     "output_type": "execute_result"
    },
    {
     "data": {
      "image/png": "[encoded data removed]",
      "text/plain": [
       "<Figure size 432x288 with 1 Axes>"
      ]
     },
     "metadata": {},
     "output_type": "display_data"
    }
   ],
   "source": [
    "test = sorted(p_RISP_2)\n",
    "plt.plot(test)\n",
    "\n",
    "stats.kstest(test, stats.uniform(loc=0.0).cdf) #\n",
    "# This means that the null hypothesis should be rejected... But wait?"
   ]
  },
  {
   "cell_type": "code",
   "execution_count": 226,
   "id": "2cbf345d",
   "metadata": {},
   "outputs": [
    {
     "data": {
      "text/plain": [
       "(array([267., 371., 327., 298., 376., 293., 331., 360., 347., 322., 339.,\n",
       "        332., 351., 341., 362., 356., 378., 372., 369., 504.]),\n",
       " array([4.28150841e-05, 5.00402498e-02, 1.00037684e-01, 1.50035119e-01,\n",
       "        2.00032554e-01, 2.50029988e-01, 3.00027423e-01, 3.50024858e-01,\n",
       "        4.00022293e-01, 4.50019727e-01, 5.00017162e-01, 5.50014597e-01,\n",
       "        6.00012031e-01, 6.50009466e-01, 7.00006901e-01, 7.50004335e-01,\n",
       "        8.00001770e-01, 8.49999205e-01, 8.99996639e-01, 9.49994074e-01,\n",
       "        9.99991509e-01]),\n",
       " <BarContainer object of 20 artists>)"
      ]
     },
     "execution_count": 226,
     "metadata": {},
     "output_type": "execute_result"
    },
    {
     "data": {
      "image/png": "[encoded data removed]",
      "text/plain": [
       "<Figure size 432x288 with 1 Axes>"
      ]
     },
     "metadata": {},
     "output_type": "display_data"
    }
   ],
   "source": [
    "plt.hist(test, bins = 20, color = \"#1f8c99\")"
   ]
  },
  {
   "cell_type": "code",
   "execution_count": 227,
   "id": "c1e58146",
   "metadata": {},
   "outputs": [
    {
     "data": {
      "text/plain": [
       "KstestResult(statistic=0.013475397125518318, pvalue=0.1561262243686563)"
      ]
     },
     "execution_count": 227,
     "metadata": {},
     "output_type": "execute_result"
    },
    {
     "data": {
      "image/png": "[encoded data removed]",
      "text/plain": [
       "<Figure size 432x288 with 1 Axes>"
      ]
     },
     "metadata": {},
     "output_type": "display_data"
    }
   ],
   "source": [
    "test = sorted(p_RISP_3)\n",
    "plt.plot(test)\n",
    "\n",
    "stats.kstest(test, stats.uniform(loc=0.0).cdf) #\n",
    "# This means that the null hypothesis should be rejected... But wait?"
   ]
  },
  {
   "cell_type": "code",
   "execution_count": 228,
   "id": "fa55434a",
   "metadata": {},
   "outputs": [
    {
     "data": {
      "text/plain": [
       "(array([327., 407., 361., 368., 358., 346., 352., 336., 349., 348., 325.,\n",
       "        346., 359., 308., 363., 341., 350., 322., 312., 418.]),\n",
       " array([3.41287437e-05, 5.00317866e-02, 1.00029444e-01, 1.50027102e-01,\n",
       "        2.00024760e-01, 2.50022418e-01, 3.00020076e-01, 3.50017733e-01,\n",
       "        4.00015391e-01, 4.50013049e-01, 5.00010707e-01, 5.50008365e-01,\n",
       "        6.00006023e-01, 6.50003680e-01, 7.00001338e-01, 7.49998996e-01,\n",
       "        7.99996654e-01, 8.49994312e-01, 8.99991969e-01, 9.49989627e-01,\n",
       "        9.99987285e-01]),\n",
       " <BarContainer object of 20 artists>)"
      ]
     },
     "execution_count": 228,
     "metadata": {},
     "output_type": "execute_result"
    },
    {
     "data": {
      "image/png": "[encoded data removed]",
      "text/plain": [
       "<Figure size 432x288 with 1 Axes>"
      ]
     },
     "metadata": {},
     "output_type": "display_data"
    }
   ],
   "source": [
    "plt.hist(test, bins = 20, color = \"#5ee3ff\")"
   ]
  },
  {
   "cell_type": "markdown",
   "id": "5ace9821",
   "metadata": {},
   "source": [
    "### Now this is the story of RISP, let us check out the other situations...\n",
    "\n",
    "### Batting performance when there are men on base"
   ]
  },
  {
   "cell_type": "code",
   "execution_count": 242,
   "id": "edd4c355",
   "metadata": {},
   "outputs": [
    {
     "name": "stdout",
     "output_type": "stream",
     "text": [
      "7932\n"
     ]
    }
   ],
   "source": [
    "AB_threshold = 30;\n",
    "\n",
    "temp = df_player_career_split[df_player_career_split[\"Situation\"] == \"Men On\"];\n",
    "temp = temp[temp[\"AB\"] >= AB_threshold];\n",
    "\n",
    "MenOn_comp = pd.merge(df_player_career_split[df_player_career_split[\"Situation\"] == \"Total\"], temp, on = \"ID\");\n",
    "# RISP_comp.loc[0] # Total: 3771, 12364, 964, 2956\n",
    "#.merge(df_player_career_split[df_player_career_split[\"Situation\"] == \"RISP\"], on = \"ID\")\n",
    "\n",
    "\n",
    "print(MenOn_comp.shape[0]-1) #7932\n"
   ]
  },
  {
   "cell_type": "code",
   "execution_count": 230,
   "id": "1f291e4b",
   "metadata": {},
   "outputs": [
    {
     "name": "stdout",
     "output_type": "stream",
     "text": [
      "[0.2626844689379148, 0.26930576677621876, 0.25798523343357843]\n"
     ]
    }
   ],
   "source": [
    "# Finding the regression factor\n",
    "test1 = [sum(MenOn_comp[item]) for item in [\"AB_x\", \"H_x\", \"AB_y\", \"H_y\"]]; #12832445, 3370884, 5326841, 1434549\n",
    "test1 = [test1[1]/test1[0], test1[3]/test1[2], (test1[1]-test1[3])/(test1[0]-test1[2])]; #.2627, .2693, .2579\n",
    "print(test1)\n",
    "# theta = test1[1]/test1[2]; # 1.0111716751056685\n",
    "theta = 1.0438805477041186"
   ]
  },
  {
   "cell_type": "code",
   "execution_count": 252,
   "id": "eb327e33",
   "metadata": {},
   "outputs": [],
   "source": [
    "p_MenOn_2 = [];\n",
    "p_MenOn_3 = [];\n",
    "for i in range(MenOn_comp.shape[0]):\n",
    "    temp_list = MenOn_comp.loc[i, [\"AB_x\", \"H_x\", \"AB_y\", \"H_y\"]];\n",
    "    res2 = Binomial_p_val(temp_list[1]-temp_list[3], temp_list[3], temp_list[0]-temp_list[2], temp_list[2], 0);\n",
    "    res3 = Binomial_p_val(temp_list[1]-temp_list[3], temp_list[3], temp_list[0]-temp_list[2], temp_list[2], theta);\n",
    "    p_MenOn_2.append(res2);\n",
    "    p_MenOn_3.append(res3);"
   ]
  },
  {
   "cell_type": "code",
   "execution_count": 253,
   "id": "a93b82b5",
   "metadata": {},
   "outputs": [
    {
     "data": {
      "text/plain": [
       "KstestResult(statistic=0.11881777585785502, pvalue=4.8275052325738524e-98)"
      ]
     },
     "execution_count": 253,
     "metadata": {},
     "output_type": "execute_result"
    },
    {
     "data": {
      "image/png": "[encoded data removed]",
      "text/plain": [
       "<Figure size 432x288 with 1 Axes>"
      ]
     },
     "metadata": {},
     "output_type": "display_data"
    }
   ],
   "source": [
    "test = sorted(p_MenOn_2)\n",
    "plt.plot(test)\n",
    "\n",
    "stats.kstest(test, stats.uniform(loc=0.0).cdf) #\n",
    "# This means that the null hypothesis should be rejected... But wait?"
   ]
  },
  {
   "cell_type": "code",
   "execution_count": 237,
   "id": "9b6b330e",
   "metadata": {},
   "outputs": [
    {
     "data": {
      "text/plain": [
       "(array([262., 280., 312., 310., 317., 351., 299., 327., 334., 360., 340.,\n",
       "        382., 380., 383., 383., 417., 436., 514., 590., 956.]),\n",
       " array([1.00237577e-04, 5.00952257e-02, 1.00090214e-01, 1.50085202e-01,\n",
       "        2.00080190e-01, 2.50075178e-01, 3.00070166e-01, 3.50065154e-01,\n",
       "        4.00060143e-01, 4.50055131e-01, 5.00050119e-01, 5.50045107e-01,\n",
       "        6.00040095e-01, 6.50035083e-01, 7.00030071e-01, 7.50025059e-01,\n",
       "        8.00020047e-01, 8.50015036e-01, 9.00010024e-01, 9.50005012e-01,\n",
       "        1.00000000e+00]),\n",
       " <BarContainer object of 20 artists>)"
      ]
     },
     "execution_count": 237,
     "metadata": {},
     "output_type": "execute_result"
    },
    {
     "data": {
      "image/png": "[encoded data removed]",
      "text/plain": [
       "<Figure size 432x288 with 1 Axes>"
      ]
     },
     "metadata": {},
     "output_type": "display_data"
    }
   ],
   "source": [
    "plt.hist(test, bins = 20, color = \"#b241e9\")"
   ]
  },
  {
   "cell_type": "code",
   "execution_count": 238,
   "id": "5339203b",
   "metadata": {},
   "outputs": [
    {
     "data": {
      "text/plain": [
       "KstestResult(statistic=0.040749230467747366, pvalue=6.976218886226335e-12)"
      ]
     },
     "execution_count": 238,
     "metadata": {},
     "output_type": "execute_result"
    },
    {
     "data": {
      "image/png": "[encoded data removed]",
      "text/plain": [
       "<Figure size 432x288 with 1 Axes>"
      ]
     },
     "metadata": {},
     "output_type": "display_data"
    }
   ],
   "source": [
    "test = sorted(p_MenOn_3)\n",
    "plt.plot(test)\n",
    "\n",
    "stats.kstest(test, stats.uniform(loc=0.0).cdf) #\n",
    "# This means that the null hypothesis should be rejected... But wait?"
   ]
  },
  {
   "cell_type": "code",
   "execution_count": 240,
   "id": "bfde1077",
   "metadata": {},
   "outputs": [
    {
     "data": {
      "text/plain": [
       "(array([483., 448., 448., 427., 427., 444., 408., 366., 403., 409., 367.,\n",
       "        378., 369., 357., 347., 345., 353., 364., 397., 393.]),\n",
       " array([5.09751581e-05, 5.00484219e-02, 1.00045869e-01, 1.50043315e-01,\n",
       "        2.00040762e-01, 2.50038209e-01, 3.00035655e-01, 3.50033102e-01,\n",
       "        4.00030549e-01, 4.50027996e-01, 5.00025442e-01, 5.50022889e-01,\n",
       "        6.00020336e-01, 6.50017782e-01, 7.00015229e-01, 7.50012676e-01,\n",
       "        8.00010123e-01, 8.50007569e-01, 9.00005016e-01, 9.50002463e-01,\n",
       "        9.99999909e-01]),\n",
       " <BarContainer object of 20 artists>)"
      ]
     },
     "execution_count": 240,
     "metadata": {},
     "output_type": "execute_result"
    },
    {
     "data": {
      "image/png": "[encoded data removed]",
      "text/plain": [
       "<Figure size 432x288 with 1 Axes>"
      ]
     },
     "metadata": {},
     "output_type": "display_data"
    }
   ],
   "source": [
    "plt.hist(test, bins = 20, color = \"#1241e9\")"
   ]
  },
  {
   "cell_type": "markdown",
   "id": "5f62ed1e",
   "metadata": {},
   "source": [
    "It turned out that using the batting data from the situation when there is runner on the base, there is a statitical significance between the normalized p-value and the uniform distribution on $(0,1)$."
   ]
  },
  {
   "cell_type": "markdown",
   "id": "7dd57a33",
   "metadata": {},
   "source": [
    "### Batting performance in close and late situations"
   ]
  },
  {
   "cell_type": "code",
   "execution_count": 244,
   "id": "42c5321f",
   "metadata": {},
   "outputs": [
    {
     "name": "stdout",
     "output_type": "stream",
     "text": [
      "5909\n"
     ]
    }
   ],
   "source": [
    "AB_threshold = 30;\n",
    "\n",
    "temp = df_player_career_split[df_player_career_split[\"Situation\"] == \"Close & Late\"];\n",
    "temp = temp[temp[\"AB\"] >= AB_threshold];\n",
    "\n",
    "CnL_comp = pd.merge(df_player_career_split[df_player_career_split[\"Situation\"] == \"Total\"], temp, on = \"ID\");\n",
    "\n",
    "print(CnL_comp.shape[0]-1) #5909\n"
   ]
  },
  {
   "cell_type": "code",
   "execution_count": 248,
   "id": "98602582",
   "metadata": {},
   "outputs": [
    {
     "name": "stdout",
     "output_type": "stream",
     "text": [
      "[12456418.0, 3304112.0, 1959958.0, 503491.0]\n",
      "[0.26525378323046, 0.256888668022478, 0.26681576455300166]\n"
     ]
    },
    {
     "data": {
      "text/plain": [
       "0.9627941904139188"
      ]
     },
     "execution_count": 248,
     "metadata": {},
     "output_type": "execute_result"
    }
   ],
   "source": [
    "# Finding the regression factor\n",
    "test1 = [sum(CnL_comp[item]) for item in [\"AB_x\", \"H_x\", \"AB_y\", \"H_y\"]]; #12456418, 3304112, 1959958, 503491\n",
    "print(test1)\n",
    "test1 = [test1[1]/test1[0], test1[3]/test1[2], (test1[1]-test1[3])/(test1[0]-test1[2])]; #.2653, .2569, .2668\n",
    "print(test1)\n",
    "# theta = test1[1]/test1[2]; # 0.9627941904139188\n",
    "theta = 0.9627941904139188;"
   ]
  },
  {
   "cell_type": "code",
   "execution_count": 251,
   "id": "7d2ae956",
   "metadata": {},
   "outputs": [],
   "source": [
    "p_CnL_2 = [];\n",
    "p_CnL_3 = [];\n",
    "for i in range(CnL_comp.shape[0]):\n",
    "    temp_list = CnL_comp.loc[i, [\"AB_x\", \"H_x\", \"AB_y\", \"H_y\"]];\n",
    "    res2 = Binomial_p_val(temp_list[1]-temp_list[3], temp_list[3], temp_list[0]-temp_list[2], temp_list[2], 0);\n",
    "    res3 = Binomial_p_val(temp_list[1]-temp_list[3], temp_list[3], temp_list[0]-temp_list[2], temp_list[2], theta);\n",
    "    p_CnL_2.append(res2);\n",
    "    p_CnL_3.append(res3);"
   ]
  },
  {
   "cell_type": "code",
   "execution_count": 256,
   "id": "3cc4d670",
   "metadata": {},
   "outputs": [
    {
     "data": {
      "text/plain": [
       "KstestResult(statistic=0.13703345362728642, pvalue=2.906318485046126e-97)"
      ]
     },
     "execution_count": 256,
     "metadata": {},
     "output_type": "execute_result"
    },
    {
     "data": {
      "image/png": "[encoded data removed]",
      "text/plain": [
       "<Figure size 432x288 with 1 Axes>"
      ]
     },
     "metadata": {},
     "output_type": "display_data"
    }
   ],
   "source": [
    "test = sorted(p_CnL_2)\n",
    "plt.plot(test)\n",
    "\n",
    "stats.kstest(test, stats.uniform(loc=0.0).cdf)\n"
   ]
  },
  {
   "cell_type": "code",
   "execution_count": 257,
   "id": "7b25a0b4",
   "metadata": {},
   "outputs": [
    {
     "data": {
      "text/plain": [
       "(array([600., 479., 405., 401., 322., 312., 350., 284., 284., 268., 245.,\n",
       "        247., 234., 255., 233., 215., 208., 201., 184., 183.]),\n",
       " array([3.93062695e-06, 5.00017451e-02, 9.99995596e-02, 1.49997374e-01,\n",
       "        1.99995188e-01, 2.49993003e-01, 2.99990817e-01, 3.49988632e-01,\n",
       "        3.99986446e-01, 4.49984261e-01, 4.99982075e-01, 5.49979890e-01,\n",
       "        5.99977704e-01, 6.49975519e-01, 6.99973333e-01, 7.49971148e-01,\n",
       "        7.99968962e-01, 8.49966777e-01, 8.99964591e-01, 9.49962405e-01,\n",
       "        9.99960220e-01]),\n",
       " <BarContainer object of 20 artists>)"
      ]
     },
     "execution_count": 257,
     "metadata": {},
     "output_type": "execute_result"
    },
    {
     "data": {
      "image/png": "[encoded data removed]",
      "text/plain": [
       "<Figure size 432x288 with 1 Axes>"
      ]
     },
     "metadata": {},
     "output_type": "display_data"
    }
   ],
   "source": [
    "plt.hist(test, bins = 20, color = \"#0dc883\")"
   ]
  },
  {
   "cell_type": "code",
   "execution_count": 258,
   "id": "e9bc325c",
   "metadata": {},
   "outputs": [
    {
     "data": {
      "text/plain": [
       "KstestResult(statistic=0.025072277809333576, pvalue=0.0011654972497789032)"
      ]
     },
     "execution_count": 258,
     "metadata": {},
     "output_type": "execute_result"
    },
    {
     "data": {
      "image/png": "[encoded data removed]",
      "text/plain": [
       "<Figure size 432x288 with 1 Axes>"
      ]
     },
     "metadata": {},
     "output_type": "display_data"
    }
   ],
   "source": [
    "test = sorted(p_CnL_3)\n",
    "plt.plot(test)\n",
    "\n",
    "stats.kstest(test, stats.uniform(loc=0.0).cdf)"
   ]
  },
  {
   "cell_type": "code",
   "execution_count": 259,
   "id": "cb297132",
   "metadata": {},
   "outputs": [
    {
     "data": {
      "text/plain": [
       "(array([345., 351., 288., 334., 296., 283., 286., 286., 279., 280., 259.,\n",
       "        262., 301., 241., 278., 265., 288., 322., 302., 364.]),\n",
       " array([4.26555520e-05, 5.00402647e-02, 1.00037874e-01, 1.50035483e-01,\n",
       "        2.00033092e-01, 2.50030701e-01, 3.00028310e-01, 3.50025919e-01,\n",
       "        4.00023528e-01, 4.50021138e-01, 5.00018747e-01, 5.50016356e-01,\n",
       "        6.00013965e-01, 6.50011574e-01, 7.00009183e-01, 7.50006792e-01,\n",
       "        8.00004401e-01, 8.50002011e-01, 8.99999620e-01, 9.49997229e-01,\n",
       "        9.99994838e-01]),\n",
       " <BarContainer object of 20 artists>)"
      ]
     },
     "execution_count": 259,
     "metadata": {},
     "output_type": "execute_result"
    },
    {
     "data": {
      "image/png": "[encoded data removed]",
      "text/plain": [
       "<Figure size 432x288 with 1 Axes>"
      ]
     },
     "metadata": {},
     "output_type": "display_data"
    }
   ],
   "source": [
    "plt.hist(test, bins = 20, color = \"#49042f\")"
   ]
  },
  {
   "cell_type": "markdown",
   "id": "c61f648c",
   "metadata": {},
   "source": [
    "Although it seems more uniform than the case when there are men on base, statistics still refutes the null hypothesis that the normalized $p$-values is indistinguishable to a uniform distribution."
   ]
  },
  {
   "cell_type": "markdown",
   "id": "c4048f5e",
   "metadata": {},
   "source": [
    "### Batting performance when bases are loaded"
   ]
  },
  {
   "cell_type": "code",
   "execution_count": 260,
   "id": "20b02078",
   "metadata": {},
   "outputs": [
    {
     "name": "stdout",
     "output_type": "stream",
     "text": [
      "2780\n"
     ]
    }
   ],
   "source": [
    "AB_threshold = 30;\n",
    "\n",
    "temp = df_player_career_split[df_player_career_split[\"Situation\"] == \"Bases Loaded\"];\n",
    "temp = temp[temp[\"AB\"] >= AB_threshold];\n",
    "\n",
    "BasesLoaded_comp = pd.merge(df_player_career_split[df_player_career_split[\"Situation\"] == \"Total\"], temp, on = \"ID\");\n",
    "\n",
    "print(BasesLoaded_comp.shape[0]-1) #2780\n"
   ]
  },
  {
   "cell_type": "code",
   "execution_count": 264,
   "id": "0053cfc2",
   "metadata": {},
   "outputs": [
    {
     "name": "stdout",
     "output_type": "stream",
     "text": [
      "[10351603.0, 2803442.0, 232191.0, 66304.0]\n",
      "[0.27082201664804956, 0.28555801043106754, 0.2704838976810115]\n"
     ]
    }
   ],
   "source": [
    "# Finding the regression factor\n",
    "test1 = [sum(BasesLoaded_comp[item]) for item in [\"AB_x\", \"H_x\", \"AB_y\", \"H_y\"]]; #10351603, 2803442, 232191, 66304\n",
    "print(test1)\n",
    "test1 = [test1[1]/test1[0], test1[3]/test1[2], (test1[1]-test1[3])/(test1[0]-test1[2])]; #.2708, .2856, .2705\n",
    "print(test1)\n",
    "theta = test1[1]/test1[2] # 1.0557301668575974\n",
    "theta = 1.0557301668575974;"
   ]
  },
  {
   "cell_type": "code",
   "execution_count": 319,
   "id": "8b72a073",
   "metadata": {},
   "outputs": [],
   "source": [
    "p_BasesLoaded_2 = [];\n",
    "p_BasesLoaded_3 = [];\n",
    "for i in range(BasesLoaded_comp.shape[0]):\n",
    "    temp_list = BasesLoaded_comp.loc[i, [\"AB_x\", \"H_x\", \"AB_y\", \"H_y\"]];\n",
    "    res2 = Binomial_p_val(temp_list[1]-temp_list[3], temp_list[3], temp_list[0]-temp_list[2], temp_list[2], 0);\n",
    "    res3 = Binomial_p_val(temp_list[1]-temp_list[3], temp_list[3], temp_list[0]-temp_list[2], temp_list[2], theta);\n",
    "    p_BasesLoaded_2.append(res2);\n",
    "    p_BasesLoaded_3.append(res3);"
   ]
  },
  {
   "cell_type": "code",
   "execution_count": 271,
   "id": "10bd2c68",
   "metadata": {},
   "outputs": [
    {
     "data": {
      "text/plain": [
       "KstestResult(statistic=0.11651086442825875, pvalue=2.396877258226524e-33)"
      ]
     },
     "execution_count": 271,
     "metadata": {},
     "output_type": "execute_result"
    },
    {
     "data": {
      "image/png": "[encoded data removed]",
      "text/plain": [
       "<Figure size 432x288 with 1 Axes>"
      ]
     },
     "metadata": {},
     "output_type": "display_data"
    }
   ],
   "source": [
    "test = sorted(p_BasesLoaded_2)\n",
    "plt.plot(test)\n",
    "\n",
    "stats.kstest(test, stats.uniform(loc=0.0).cdf)\n"
   ]
  },
  {
   "cell_type": "code",
   "execution_count": 272,
   "id": "9007c934",
   "metadata": {},
   "outputs": [
    {
     "data": {
      "text/plain": [
       "(array([ 80.,  80., 101., 111., 113., 114., 118., 115., 119., 143., 136.,\n",
       "        125., 145., 132., 136., 146., 179., 190., 195., 303.]),\n",
       " array([0.00189399, 0.05179898, 0.10170397, 0.15160896, 0.20151395,\n",
       "        0.25141894, 0.30132393, 0.35122892, 0.40113391, 0.4510389 ,\n",
       "        0.50094389, 0.55084888, 0.60075387, 0.65065885, 0.70056384,\n",
       "        0.75046883, 0.80037382, 0.85027881, 0.9001838 , 0.95008879,\n",
       "        0.99999378]),\n",
       " <BarContainer object of 20 artists>)"
      ]
     },
     "execution_count": 272,
     "metadata": {},
     "output_type": "execute_result"
    },
    {
     "data": {
      "image/png": "[encoded data removed]",
      "text/plain": [
       "<Figure size 432x288 with 1 Axes>"
      ]
     },
     "metadata": {},
     "output_type": "display_data"
    }
   ],
   "source": [
    "plt.hist(test, bins = 20, color = \"#f2a923\")"
   ]
  },
  {
   "cell_type": "code",
   "execution_count": 273,
   "id": "fd324ced",
   "metadata": {},
   "outputs": [
    {
     "data": {
      "text/plain": [
       "KstestResult(statistic=0.015143613606978024, pvalue=0.5413150248203669)"
      ]
     },
     "execution_count": 273,
     "metadata": {},
     "output_type": "execute_result"
    },
    {
     "data": {
      "image/png": "[encoded data removed]",
      "text/plain": [
       "<Figure size 432x288 with 1 Axes>"
      ]
     },
     "metadata": {},
     "output_type": "display_data"
    }
   ],
   "source": [
    "test = sorted(p_BasesLoaded_3)\n",
    "plt.plot(test)\n",
    "\n",
    "stats.kstest(test, stats.uniform(loc=0.0).cdf)\n"
   ]
  },
  {
   "cell_type": "code",
   "execution_count": 274,
   "id": "44e03752",
   "metadata": {},
   "outputs": [
    {
     "data": {
      "text/plain": [
       "(array([114., 136., 139., 132., 155., 145., 147., 146., 149., 138., 120.,\n",
       "        139., 125., 124., 166., 129., 143., 141., 149., 144.]),\n",
       " array([8.26689640e-04, 5.07822814e-02, 1.00737873e-01, 1.50693465e-01,\n",
       "        2.00649057e-01, 2.50604649e-01, 3.00560240e-01, 3.50515832e-01,\n",
       "        4.00471424e-01, 4.50427016e-01, 5.00382608e-01, 5.50338200e-01,\n",
       "        6.00293791e-01, 6.50249383e-01, 7.00204975e-01, 7.50160567e-01,\n",
       "        8.00116159e-01, 8.50071750e-01, 9.00027342e-01, 9.49982934e-01,\n",
       "        9.99938526e-01]),\n",
       " <BarContainer object of 20 artists>)"
      ]
     },
     "execution_count": 274,
     "metadata": {},
     "output_type": "execute_result"
    },
    {
     "data": {
      "image/png": "[encoded data removed]",
      "text/plain": [
       "<Figure size 432x288 with 1 Axes>"
      ]
     },
     "metadata": {},
     "output_type": "display_data"
    }
   ],
   "source": [
    "plt.hist(test, bins = 20, color = \"#8bc1ee\")"
   ]
  },
  {
   "cell_type": "markdown",
   "id": "3bd0c07f",
   "metadata": {},
   "source": [
    "This one is flat."
   ]
  },
  {
   "cell_type": "markdown",
   "id": "67331de8",
   "metadata": {},
   "source": [
    "### Storing the data, and move on"
   ]
  },
  {
   "cell_type": "code",
   "execution_count": 295,
   "id": "8f6ce356",
   "metadata": {},
   "outputs": [
    {
     "data": {
      "text/html": [
       "<div>\n",
       "<style scoped>\n",
       "    .dataframe tbody tr th:only-of-type {\n",
       "        vertical-align: middle;\n",
       "    }\n",
       "\n",
       "    .dataframe tbody tr th {\n",
       "        vertical-align: top;\n",
       "    }\n",
       "\n",
       "    .dataframe thead th {\n",
       "        text-align: right;\n",
       "    }\n",
       "</style>\n",
       "<table border=\"1\" class=\"dataframe\">\n",
       "  <thead>\n",
       "    <tr style=\"text-align: right;\">\n",
       "      <th></th>\n",
       "      <th>ID</th>\n",
       "      <th>Name</th>\n",
       "      <th>Situation</th>\n",
       "      <th>G</th>\n",
       "      <th>AB</th>\n",
       "      <th>R</th>\n",
       "      <th>H</th>\n",
       "      <th>2B</th>\n",
       "      <th>3B</th>\n",
       "      <th>HR</th>\n",
       "      <th>...</th>\n",
       "      <th>GDP</th>\n",
       "      <th>SB</th>\n",
       "      <th>CS</th>\n",
       "      <th>AVG</th>\n",
       "      <th>OBP</th>\n",
       "      <th>SLG</th>\n",
       "      <th>p_RISP</th>\n",
       "      <th>p_MenOn</th>\n",
       "      <th>p_CnL</th>\n",
       "      <th>p_BasesLoaded</th>\n",
       "    </tr>\n",
       "  </thead>\n",
       "  <tbody>\n",
       "    <tr>\n",
       "      <th>0</th>\n",
       "      <td>0</td>\n",
       "      <td>David Aardsma</td>\n",
       "      <td>Total</td>\n",
       "      <td>331.0</td>\n",
       "      <td>4.0</td>\n",
       "      <td>0.0</td>\n",
       "      <td>0.0</td>\n",
       "      <td>0.0</td>\n",
       "      <td>0.0</td>\n",
       "      <td>0.0</td>\n",
       "      <td>...</td>\n",
       "      <td>0.0</td>\n",
       "      <td>0.0</td>\n",
       "      <td>0.0</td>\n",
       "      <td>0.000</td>\n",
       "      <td>0.000</td>\n",
       "      <td>0.000</td>\n",
       "      <td>NaN</td>\n",
       "      <td>NaN</td>\n",
       "      <td>NaN</td>\n",
       "      <td>NaN</td>\n",
       "    </tr>\n",
       "    <tr>\n",
       "      <th>1</th>\n",
       "      <td>1</td>\n",
       "      <td>Hank Aaron</td>\n",
       "      <td>Total</td>\n",
       "      <td>3298.0</td>\n",
       "      <td>12364.0</td>\n",
       "      <td>2175.0</td>\n",
       "      <td>3771.0</td>\n",
       "      <td>624.0</td>\n",
       "      <td>98.0</td>\n",
       "      <td>755.0</td>\n",
       "      <td>...</td>\n",
       "      <td>330.0</td>\n",
       "      <td>240.0</td>\n",
       "      <td>73.0</td>\n",
       "      <td>0.305</td>\n",
       "      <td>0.374</td>\n",
       "      <td>0.555</td>\n",
       "      <td>0.993607</td>\n",
       "      <td>0.999918</td>\n",
       "      <td>0.996018</td>\n",
       "      <td>0.485484</td>\n",
       "    </tr>\n",
       "    <tr>\n",
       "      <th>2</th>\n",
       "      <td>2</td>\n",
       "      <td>Tommie Aaron</td>\n",
       "      <td>Total</td>\n",
       "      <td>437.0</td>\n",
       "      <td>944.0</td>\n",
       "      <td>102.0</td>\n",
       "      <td>216.0</td>\n",
       "      <td>42.0</td>\n",
       "      <td>6.0</td>\n",
       "      <td>13.0</td>\n",
       "      <td>...</td>\n",
       "      <td>37.0</td>\n",
       "      <td>9.0</td>\n",
       "      <td>8.0</td>\n",
       "      <td>0.229</td>\n",
       "      <td>0.291</td>\n",
       "      <td>0.327</td>\n",
       "      <td>0.522357</td>\n",
       "      <td>0.915248</td>\n",
       "      <td>0.704473</td>\n",
       "      <td>0.350849</td>\n",
       "    </tr>\n",
       "    <tr>\n",
       "      <th>3</th>\n",
       "      <td>3</td>\n",
       "      <td>Don Aase</td>\n",
       "      <td>Total</td>\n",
       "      <td>448.0</td>\n",
       "      <td>5.0</td>\n",
       "      <td>0.0</td>\n",
       "      <td>0.0</td>\n",
       "      <td>0.0</td>\n",
       "      <td>0.0</td>\n",
       "      <td>0.0</td>\n",
       "      <td>...</td>\n",
       "      <td>0.0</td>\n",
       "      <td>0.0</td>\n",
       "      <td>0.0</td>\n",
       "      <td>0.000</td>\n",
       "      <td>0.000</td>\n",
       "      <td>0.000</td>\n",
       "      <td>NaN</td>\n",
       "      <td>NaN</td>\n",
       "      <td>NaN</td>\n",
       "      <td>NaN</td>\n",
       "    </tr>\n",
       "    <tr>\n",
       "      <th>4</th>\n",
       "      <td>4</td>\n",
       "      <td>Andy Abad</td>\n",
       "      <td>Total</td>\n",
       "      <td>15.0</td>\n",
       "      <td>21.0</td>\n",
       "      <td>1.0</td>\n",
       "      <td>2.0</td>\n",
       "      <td>0.0</td>\n",
       "      <td>0.0</td>\n",
       "      <td>0.0</td>\n",
       "      <td>...</td>\n",
       "      <td>1.0</td>\n",
       "      <td>0.0</td>\n",
       "      <td>1.0</td>\n",
       "      <td>0.095</td>\n",
       "      <td>0.240</td>\n",
       "      <td>0.095</td>\n",
       "      <td>NaN</td>\n",
       "      <td>NaN</td>\n",
       "      <td>NaN</td>\n",
       "      <td>NaN</td>\n",
       "    </tr>\n",
       "    <tr>\n",
       "      <th>...</th>\n",
       "      <td>...</td>\n",
       "      <td>...</td>\n",
       "      <td>...</td>\n",
       "      <td>...</td>\n",
       "      <td>...</td>\n",
       "      <td>...</td>\n",
       "      <td>...</td>\n",
       "      <td>...</td>\n",
       "      <td>...</td>\n",
       "      <td>...</td>\n",
       "      <td>...</td>\n",
       "      <td>...</td>\n",
       "      <td>...</td>\n",
       "      <td>...</td>\n",
       "      <td>...</td>\n",
       "      <td>...</td>\n",
       "      <td>...</td>\n",
       "      <td>...</td>\n",
       "      <td>...</td>\n",
       "      <td>...</td>\n",
       "      <td>...</td>\n",
       "    </tr>\n",
       "    <tr>\n",
       "      <th>15997</th>\n",
       "      <td>19913</td>\n",
       "      <td>Bob Zupcic</td>\n",
       "      <td>Total</td>\n",
       "      <td>319.0</td>\n",
       "      <td>795.0</td>\n",
       "      <td>99.0</td>\n",
       "      <td>199.0</td>\n",
       "      <td>47.0</td>\n",
       "      <td>4.0</td>\n",
       "      <td>7.0</td>\n",
       "      <td>...</td>\n",
       "      <td>15.0</td>\n",
       "      <td>7.0</td>\n",
       "      <td>5.0</td>\n",
       "      <td>0.250</td>\n",
       "      <td>0.303</td>\n",
       "      <td>0.346</td>\n",
       "      <td>0.825106</td>\n",
       "      <td>0.974310</td>\n",
       "      <td>0.859930</td>\n",
       "      <td>NaN</td>\n",
       "    </tr>\n",
       "    <tr>\n",
       "      <th>15998</th>\n",
       "      <td>19914</td>\n",
       "      <td>Frank Zupo</td>\n",
       "      <td>Total</td>\n",
       "      <td>16.0</td>\n",
       "      <td>18.0</td>\n",
       "      <td>3.0</td>\n",
       "      <td>3.0</td>\n",
       "      <td>1.0</td>\n",
       "      <td>0.0</td>\n",
       "      <td>0.0</td>\n",
       "      <td>...</td>\n",
       "      <td>0.0</td>\n",
       "      <td>0.0</td>\n",
       "      <td>0.0</td>\n",
       "      <td>0.167</td>\n",
       "      <td>0.250</td>\n",
       "      <td>0.222</td>\n",
       "      <td>NaN</td>\n",
       "      <td>NaN</td>\n",
       "      <td>NaN</td>\n",
       "      <td>NaN</td>\n",
       "    </tr>\n",
       "    <tr>\n",
       "      <th>15999</th>\n",
       "      <td>19915</td>\n",
       "      <td>Paul Zuvella</td>\n",
       "      <td>Total</td>\n",
       "      <td>209.0</td>\n",
       "      <td>491.0</td>\n",
       "      <td>41.0</td>\n",
       "      <td>109.0</td>\n",
       "      <td>17.0</td>\n",
       "      <td>2.0</td>\n",
       "      <td>2.0</td>\n",
       "      <td>...</td>\n",
       "      <td>8.0</td>\n",
       "      <td>2.0</td>\n",
       "      <td>0.0</td>\n",
       "      <td>0.222</td>\n",
       "      <td>0.275</td>\n",
       "      <td>0.277</td>\n",
       "      <td>0.214693</td>\n",
       "      <td>0.339284</td>\n",
       "      <td>0.661780</td>\n",
       "      <td>NaN</td>\n",
       "    </tr>\n",
       "    <tr>\n",
       "      <th>16000</th>\n",
       "      <td>19916</td>\n",
       "      <td>George Zuverink</td>\n",
       "      <td>Total</td>\n",
       "      <td>266.0</td>\n",
       "      <td>141.0</td>\n",
       "      <td>5.0</td>\n",
       "      <td>21.0</td>\n",
       "      <td>2.0</td>\n",
       "      <td>1.0</td>\n",
       "      <td>0.0</td>\n",
       "      <td>...</td>\n",
       "      <td>3.0</td>\n",
       "      <td>0.0</td>\n",
       "      <td>0.0</td>\n",
       "      <td>0.149</td>\n",
       "      <td>0.200</td>\n",
       "      <td>0.177</td>\n",
       "      <td>0.468116</td>\n",
       "      <td>0.441874</td>\n",
       "      <td>0.939041</td>\n",
       "      <td>NaN</td>\n",
       "    </tr>\n",
       "    <tr>\n",
       "      <th>16001</th>\n",
       "      <td>19917</td>\n",
       "      <td>Dutch Zwilling</td>\n",
       "      <td>Total</td>\n",
       "      <td>367.0</td>\n",
       "      <td>1282.0</td>\n",
       "      <td>166.0</td>\n",
       "      <td>366.0</td>\n",
       "      <td>76.0</td>\n",
       "      <td>15.0</td>\n",
       "      <td>30.0</td>\n",
       "      <td>...</td>\n",
       "      <td>2.0</td>\n",
       "      <td>46.0</td>\n",
       "      <td>21.0</td>\n",
       "      <td>0.285</td>\n",
       "      <td>0.352</td>\n",
       "      <td>0.438</td>\n",
       "      <td>0.941317</td>\n",
       "      <td>0.910412</td>\n",
       "      <td>0.142844</td>\n",
       "      <td>NaN</td>\n",
       "    </tr>\n",
       "  </tbody>\n",
       "</table>\n",
       "<p>16002 rows × 29 columns</p>\n",
       "</div>"
      ],
      "text/plain": [
       "          ID             Name Situation       G       AB       R       H  \\\n",
       "0          0    David Aardsma     Total   331.0      4.0     0.0     0.0   \n",
       "1          1       Hank Aaron     Total  3298.0  12364.0  2175.0  3771.0   \n",
       "2          2     Tommie Aaron     Total   437.0    944.0   102.0   216.0   \n",
       "3          3         Don Aase     Total   448.0      5.0     0.0     0.0   \n",
       "4          4        Andy Abad     Total    15.0     21.0     1.0     2.0   \n",
       "...      ...              ...       ...     ...      ...     ...     ...   \n",
       "15997  19913       Bob Zupcic     Total   319.0    795.0    99.0   199.0   \n",
       "15998  19914       Frank Zupo     Total    16.0     18.0     3.0     3.0   \n",
       "15999  19915     Paul Zuvella     Total   209.0    491.0    41.0   109.0   \n",
       "16000  19916  George Zuverink     Total   266.0    141.0     5.0    21.0   \n",
       "16001  19917   Dutch Zwilling     Total   367.0   1282.0   166.0   366.0   \n",
       "\n",
       "          2B    3B     HR  ...    GDP     SB    CS    AVG    OBP    SLG  \\\n",
       "0        0.0   0.0    0.0  ...    0.0    0.0   0.0  0.000  0.000  0.000   \n",
       "1      624.0  98.0  755.0  ...  330.0  240.0  73.0  0.305  0.374  0.555   \n",
       "2       42.0   6.0   13.0  ...   37.0    9.0   8.0  0.229  0.291  0.327   \n",
       "3        0.0   0.0    0.0  ...    0.0    0.0   0.0  0.000  0.000  0.000   \n",
       "4        0.0   0.0    0.0  ...    1.0    0.0   1.0  0.095  0.240  0.095   \n",
       "...      ...   ...    ...  ...    ...    ...   ...    ...    ...    ...   \n",
       "15997   47.0   4.0    7.0  ...   15.0    7.0   5.0  0.250  0.303  0.346   \n",
       "15998    1.0   0.0    0.0  ...    0.0    0.0   0.0  0.167  0.250  0.222   \n",
       "15999   17.0   2.0    2.0  ...    8.0    2.0   0.0  0.222  0.275  0.277   \n",
       "16000    2.0   1.0    0.0  ...    3.0    0.0   0.0  0.149  0.200  0.177   \n",
       "16001   76.0  15.0   30.0  ...    2.0   46.0  21.0  0.285  0.352  0.438   \n",
       "\n",
       "         p_RISP   p_MenOn     p_CnL  p_BasesLoaded  \n",
       "0           NaN       NaN       NaN            NaN  \n",
       "1      0.993607  0.999918  0.996018       0.485484  \n",
       "2      0.522357  0.915248  0.704473       0.350849  \n",
       "3           NaN       NaN       NaN            NaN  \n",
       "4           NaN       NaN       NaN            NaN  \n",
       "...         ...       ...       ...            ...  \n",
       "15997  0.825106  0.974310  0.859930            NaN  \n",
       "15998       NaN       NaN       NaN            NaN  \n",
       "15999  0.214693  0.339284  0.661780            NaN  \n",
       "16000  0.468116  0.441874  0.939041            NaN  \n",
       "16001  0.941317  0.910412  0.142844            NaN  \n",
       "\n",
       "[16002 rows x 29 columns]"
      ]
     },
     "execution_count": 295,
     "metadata": {},
     "output_type": "execute_result"
    }
   ],
   "source": [
    "RISP_comp[\"p_RISP\"] = p_RISP_3;\n",
    "df_player_summary = df_player_career_split[df_player_career_split[\"Situation\"] == \"Total\"];\n",
    "df_player_summary = pd.merge(df_player_summary, RISP_comp[[\"ID\", \"p_RISP\"]], on = \"ID\", how = \"left\");\n",
    "\n",
    "MenOn_comp[\"p_MenOn\"] = p_MenOn_3;\n",
    "df_player_summary = pd.merge(df_player_summary, MenOn_comp[[\"ID\", \"p_MenOn\"]], on = \"ID\", how = \"left\");\n",
    "\n",
    "CnL_comp[\"p_CnL\"] = p_CnL_3;\n",
    "df_player_summary = pd.merge(df_player_summary, CnL_comp[[\"ID\", \"p_CnL\"]], on = \"ID\", how = \"left\");\n",
    "\n",
    "BasesLoaded_comp[\"p_BasesLoaded\"] = p_BasesLoaded_3;\n",
    "df_player_summary = pd.merge(df_player_summary, BasesLoaded_comp[[\"ID\", \"p_BasesLoaded\"]], on = \"ID\", how = \"left\");\n",
    "\n",
    "df_player_summary"
   ]
  },
  {
   "cell_type": "markdown",
   "id": "63fbe9ff",
   "metadata": {},
   "source": [
    "### As a quick recap, let us just see how these $p$-values correlate to each other"
   ]
  },
  {
   "cell_type": "code",
   "execution_count": 300,
   "id": "a43c11a0",
   "metadata": {},
   "outputs": [
    {
     "data": {
      "text/html": [
       "<div>\n",
       "<style scoped>\n",
       "    .dataframe tbody tr th:only-of-type {\n",
       "        vertical-align: middle;\n",
       "    }\n",
       "\n",
       "    .dataframe tbody tr th {\n",
       "        vertical-align: top;\n",
       "    }\n",
       "\n",
       "    .dataframe thead th {\n",
       "        text-align: right;\n",
       "    }\n",
       "</style>\n",
       "<table border=\"1\" class=\"dataframe\">\n",
       "  <thead>\n",
       "    <tr style=\"text-align: right;\">\n",
       "      <th></th>\n",
       "      <th>p_RISP</th>\n",
       "      <th>p_MenOn</th>\n",
       "      <th>p_CnL</th>\n",
       "      <th>p_BasesLoaded</th>\n",
       "    </tr>\n",
       "  </thead>\n",
       "  <tbody>\n",
       "    <tr>\n",
       "      <th>p_RISP</th>\n",
       "      <td>1.000000</td>\n",
       "      <td>0.530308</td>\n",
       "      <td>0.006156</td>\n",
       "      <td>0.272740</td>\n",
       "    </tr>\n",
       "    <tr>\n",
       "      <th>p_MenOn</th>\n",
       "      <td>0.530308</td>\n",
       "      <td>1.000000</td>\n",
       "      <td>0.035885</td>\n",
       "      <td>0.165532</td>\n",
       "    </tr>\n",
       "    <tr>\n",
       "      <th>p_CnL</th>\n",
       "      <td>0.006156</td>\n",
       "      <td>0.035885</td>\n",
       "      <td>1.000000</td>\n",
       "      <td>-0.025735</td>\n",
       "    </tr>\n",
       "    <tr>\n",
       "      <th>p_BasesLoaded</th>\n",
       "      <td>0.272740</td>\n",
       "      <td>0.165532</td>\n",
       "      <td>-0.025735</td>\n",
       "      <td>1.000000</td>\n",
       "    </tr>\n",
       "  </tbody>\n",
       "</table>\n",
       "</div>"
      ],
      "text/plain": [
       "                 p_RISP   p_MenOn     p_CnL  p_BasesLoaded\n",
       "p_RISP         1.000000  0.530308  0.006156       0.272740\n",
       "p_MenOn        0.530308  1.000000  0.035885       0.165532\n",
       "p_CnL          0.006156  0.035885  1.000000      -0.025735\n",
       "p_BasesLoaded  0.272740  0.165532 -0.025735       1.000000"
      ]
     },
     "execution_count": 300,
     "metadata": {},
     "output_type": "execute_result"
    }
   ],
   "source": [
    "corr = df_player_summary[[\"p_RISP\", \"p_MenOn\", \"p_CnL\", \"p_BasesLoaded\"]].corr()\n",
    "corr"
   ]
  },
  {
   "cell_type": "code",
   "execution_count": 335,
   "id": "610b10f0",
   "metadata": {},
   "outputs": [
    {
     "data": {
      "image/png": "[encoded data removed]",
      "text/plain": [
       "<Figure size 432x288 with 2 Axes>"
      ]
     },
     "metadata": {},
     "output_type": "display_data"
    }
   ],
   "source": [
    "mask = np.triu(np.ones_like(corr)); # creating a upper triangular mask\n",
    "\n",
    "ax = sns.heatmap(corr, vmin=-1, vmax=1, center=0, cmap=sns.diverging_palette(220, 20, n=200), square=True, annot=True);\n",
    "ax.set_xticklabels(ax.get_xticklabels(), rotation=45, horizontalalignment='right');\n",
    "ax.set_yticklabels(ax.get_yticklabels(), rotation=45, horizontalalignment='right');"
   ]
  },
  {
   "cell_type": "markdown",
   "id": "52385447",
   "metadata": {},
   "source": [
    "A quick conclusion we can read from here is that the normalized $p$-values of the Close and Late situation seems to be very independent to the other three situations, where the lateness are not really taken into account."
   ]
  },
  {
   "cell_type": "code",
   "execution_count": 310,
   "id": "437c7df2",
   "metadata": {},
   "outputs": [
    {
     "data": {
      "text/html": [
       "<div>\n",
       "<style scoped>\n",
       "    .dataframe tbody tr th:only-of-type {\n",
       "        vertical-align: middle;\n",
       "    }\n",
       "\n",
       "    .dataframe tbody tr th {\n",
       "        vertical-align: top;\n",
       "    }\n",
       "\n",
       "    .dataframe thead th {\n",
       "        text-align: right;\n",
       "    }\n",
       "</style>\n",
       "<table border=\"1\" class=\"dataframe\">\n",
       "  <thead>\n",
       "    <tr style=\"text-align: right;\">\n",
       "      <th></th>\n",
       "      <th>ID</th>\n",
       "      <th>Name</th>\n",
       "      <th>Situation</th>\n",
       "      <th>G</th>\n",
       "      <th>AB</th>\n",
       "      <th>R</th>\n",
       "      <th>H</th>\n",
       "      <th>2B</th>\n",
       "      <th>3B</th>\n",
       "      <th>HR</th>\n",
       "      <th>...</th>\n",
       "      <th>GDP</th>\n",
       "      <th>SB</th>\n",
       "      <th>CS</th>\n",
       "      <th>AVG</th>\n",
       "      <th>OBP</th>\n",
       "      <th>SLG</th>\n",
       "      <th>p_RISP</th>\n",
       "      <th>p_MenOn</th>\n",
       "      <th>p_CnL</th>\n",
       "      <th>p_BasesLoaded</th>\n",
       "    </tr>\n",
       "  </thead>\n",
       "  <tbody>\n",
       "    <tr>\n",
       "      <th>15295</th>\n",
       "      <td>19034</td>\n",
       "      <td>Vic Wertz</td>\n",
       "      <td>Total</td>\n",
       "      <td>1862.0</td>\n",
       "      <td>6101.0</td>\n",
       "      <td>868.0</td>\n",
       "      <td>1692.0</td>\n",
       "      <td>289.0</td>\n",
       "      <td>42.0</td>\n",
       "      <td>266.0</td>\n",
       "      <td>...</td>\n",
       "      <td>144.0</td>\n",
       "      <td>9.0</td>\n",
       "      <td>22.0</td>\n",
       "      <td>0.277</td>\n",
       "      <td>0.364</td>\n",
       "      <td>0.469</td>\n",
       "      <td>0.999586</td>\n",
       "      <td>1.000000</td>\n",
       "      <td>0.996107</td>\n",
       "      <td>0.757469</td>\n",
       "    </tr>\n",
       "    <tr>\n",
       "      <th>5315</th>\n",
       "      <td>6670</td>\n",
       "      <td>Adrian Gonzalez</td>\n",
       "      <td>Total</td>\n",
       "      <td>1929.0</td>\n",
       "      <td>7139.0</td>\n",
       "      <td>997.0</td>\n",
       "      <td>2050.0</td>\n",
       "      <td>437.0</td>\n",
       "      <td>12.0</td>\n",
       "      <td>317.0</td>\n",
       "      <td>...</td>\n",
       "      <td>207.0</td>\n",
       "      <td>6.0</td>\n",
       "      <td>7.0</td>\n",
       "      <td>0.287</td>\n",
       "      <td>0.358</td>\n",
       "      <td>0.485</td>\n",
       "      <td>0.999455</td>\n",
       "      <td>0.999933</td>\n",
       "      <td>0.314016</td>\n",
       "      <td>0.956818</td>\n",
       "    </tr>\n",
       "    <tr>\n",
       "      <th>4421</th>\n",
       "      <td>5518</td>\n",
       "      <td>Tony Fernandez</td>\n",
       "      <td>Total</td>\n",
       "      <td>2158.0</td>\n",
       "      <td>7911.0</td>\n",
       "      <td>1057.0</td>\n",
       "      <td>2276.0</td>\n",
       "      <td>414.0</td>\n",
       "      <td>92.0</td>\n",
       "      <td>94.0</td>\n",
       "      <td>...</td>\n",
       "      <td>161.0</td>\n",
       "      <td>246.0</td>\n",
       "      <td>138.0</td>\n",
       "      <td>0.288</td>\n",
       "      <td>0.347</td>\n",
       "      <td>0.399</td>\n",
       "      <td>0.998739</td>\n",
       "      <td>0.999963</td>\n",
       "      <td>0.995968</td>\n",
       "      <td>0.470128</td>\n",
       "    </tr>\n",
       "    <tr>\n",
       "      <th>3995</th>\n",
       "      <td>4977</td>\n",
       "      <td>Leo Durocher</td>\n",
       "      <td>Total</td>\n",
       "      <td>1637.0</td>\n",
       "      <td>5350.0</td>\n",
       "      <td>575.0</td>\n",
       "      <td>1320.0</td>\n",
       "      <td>210.0</td>\n",
       "      <td>56.0</td>\n",
       "      <td>24.0</td>\n",
       "      <td>...</td>\n",
       "      <td>134.0</td>\n",
       "      <td>33.0</td>\n",
       "      <td>42.0</td>\n",
       "      <td>0.247</td>\n",
       "      <td>0.299</td>\n",
       "      <td>0.320</td>\n",
       "      <td>0.998316</td>\n",
       "      <td>0.999748</td>\n",
       "      <td>0.368227</td>\n",
       "      <td>0.200137</td>\n",
       "    </tr>\n",
       "    <tr>\n",
       "      <th>14116</th>\n",
       "      <td>17576</td>\n",
       "      <td>Mike Sweeney</td>\n",
       "      <td>Total</td>\n",
       "      <td>1454.0</td>\n",
       "      <td>5188.0</td>\n",
       "      <td>759.0</td>\n",
       "      <td>1540.0</td>\n",
       "      <td>325.0</td>\n",
       "      <td>5.0</td>\n",
       "      <td>215.0</td>\n",
       "      <td>...</td>\n",
       "      <td>142.0</td>\n",
       "      <td>53.0</td>\n",
       "      <td>25.0</td>\n",
       "      <td>0.297</td>\n",
       "      <td>0.366</td>\n",
       "      <td>0.486</td>\n",
       "      <td>0.996094</td>\n",
       "      <td>0.999996</td>\n",
       "      <td>0.161556</td>\n",
       "      <td>0.938265</td>\n",
       "    </tr>\n",
       "    <tr>\n",
       "      <th>...</th>\n",
       "      <td>...</td>\n",
       "      <td>...</td>\n",
       "      <td>...</td>\n",
       "      <td>...</td>\n",
       "      <td>...</td>\n",
       "      <td>...</td>\n",
       "      <td>...</td>\n",
       "      <td>...</td>\n",
       "      <td>...</td>\n",
       "      <td>...</td>\n",
       "      <td>...</td>\n",
       "      <td>...</td>\n",
       "      <td>...</td>\n",
       "      <td>...</td>\n",
       "      <td>...</td>\n",
       "      <td>...</td>\n",
       "      <td>...</td>\n",
       "      <td>...</td>\n",
       "      <td>...</td>\n",
       "      <td>...</td>\n",
       "      <td>...</td>\n",
       "    </tr>\n",
       "    <tr>\n",
       "      <th>10231</th>\n",
       "      <td>12768</td>\n",
       "      <td>Danny Murphy</td>\n",
       "      <td>Total</td>\n",
       "      <td>1474.0</td>\n",
       "      <td>5335.0</td>\n",
       "      <td>695.0</td>\n",
       "      <td>1543.0</td>\n",
       "      <td>288.0</td>\n",
       "      <td>103.0</td>\n",
       "      <td>44.0</td>\n",
       "      <td>...</td>\n",
       "      <td>0.0</td>\n",
       "      <td>189.0</td>\n",
       "      <td>0.0</td>\n",
       "      <td>0.289</td>\n",
       "      <td>0.336</td>\n",
       "      <td>0.407</td>\n",
       "      <td>NaN</td>\n",
       "      <td>NaN</td>\n",
       "      <td>NaN</td>\n",
       "      <td>NaN</td>\n",
       "    </tr>\n",
       "    <tr>\n",
       "      <th>13089</th>\n",
       "      <td>16276</td>\n",
       "      <td>Cy Seymour</td>\n",
       "      <td>Total</td>\n",
       "      <td>1319.0</td>\n",
       "      <td>5012.0</td>\n",
       "      <td>646.0</td>\n",
       "      <td>1537.0</td>\n",
       "      <td>216.0</td>\n",
       "      <td>91.0</td>\n",
       "      <td>44.0</td>\n",
       "      <td>...</td>\n",
       "      <td>0.0</td>\n",
       "      <td>209.0</td>\n",
       "      <td>0.0</td>\n",
       "      <td>0.307</td>\n",
       "      <td>0.355</td>\n",
       "      <td>0.412</td>\n",
       "      <td>NaN</td>\n",
       "      <td>NaN</td>\n",
       "      <td>NaN</td>\n",
       "      <td>NaN</td>\n",
       "    </tr>\n",
       "    <tr>\n",
       "      <th>13145</th>\n",
       "      <td>16357</td>\n",
       "      <td>Jimmy Sheckard</td>\n",
       "      <td>Total</td>\n",
       "      <td>1771.0</td>\n",
       "      <td>6332.0</td>\n",
       "      <td>1054.0</td>\n",
       "      <td>1716.0</td>\n",
       "      <td>296.0</td>\n",
       "      <td>105.0</td>\n",
       "      <td>45.0</td>\n",
       "      <td>...</td>\n",
       "      <td>0.0</td>\n",
       "      <td>344.0</td>\n",
       "      <td>0.0</td>\n",
       "      <td>0.271</td>\n",
       "      <td>0.376</td>\n",
       "      <td>0.372</td>\n",
       "      <td>NaN</td>\n",
       "      <td>NaN</td>\n",
       "      <td>NaN</td>\n",
       "      <td>NaN</td>\n",
       "    </tr>\n",
       "    <tr>\n",
       "      <th>14454</th>\n",
       "      <td>17994</td>\n",
       "      <td>Joe Tinker</td>\n",
       "      <td>Total</td>\n",
       "      <td>1809.0</td>\n",
       "      <td>6438.0</td>\n",
       "      <td>774.0</td>\n",
       "      <td>1690.0</td>\n",
       "      <td>264.0</td>\n",
       "      <td>114.0</td>\n",
       "      <td>31.0</td>\n",
       "      <td>...</td>\n",
       "      <td>0.0</td>\n",
       "      <td>339.0</td>\n",
       "      <td>2.0</td>\n",
       "      <td>0.263</td>\n",
       "      <td>0.308</td>\n",
       "      <td>0.353</td>\n",
       "      <td>NaN</td>\n",
       "      <td>NaN</td>\n",
       "      <td>NaN</td>\n",
       "      <td>NaN</td>\n",
       "    </tr>\n",
       "    <tr>\n",
       "      <th>15045</th>\n",
       "      <td>18717</td>\n",
       "      <td>Bobby Wallace</td>\n",
       "      <td>Total</td>\n",
       "      <td>1741.0</td>\n",
       "      <td>6185.0</td>\n",
       "      <td>679.0</td>\n",
       "      <td>1618.0</td>\n",
       "      <td>277.0</td>\n",
       "      <td>78.0</td>\n",
       "      <td>10.0</td>\n",
       "      <td>...</td>\n",
       "      <td>0.0</td>\n",
       "      <td>154.0</td>\n",
       "      <td>2.0</td>\n",
       "      <td>0.262</td>\n",
       "      <td>0.326</td>\n",
       "      <td>0.336</td>\n",
       "      <td>NaN</td>\n",
       "      <td>NaN</td>\n",
       "      <td>NaN</td>\n",
       "      <td>NaN</td>\n",
       "    </tr>\n",
       "  </tbody>\n",
       "</table>\n",
       "<p>729 rows × 29 columns</p>\n",
       "</div>"
      ],
      "text/plain": [
       "          ID             Name Situation       G      AB       R       H  \\\n",
       "15295  19034        Vic Wertz     Total  1862.0  6101.0   868.0  1692.0   \n",
       "5315    6670  Adrian Gonzalez     Total  1929.0  7139.0   997.0  2050.0   \n",
       "4421    5518   Tony Fernandez     Total  2158.0  7911.0  1057.0  2276.0   \n",
       "3995    4977     Leo Durocher     Total  1637.0  5350.0   575.0  1320.0   \n",
       "14116  17576     Mike Sweeney     Total  1454.0  5188.0   759.0  1540.0   \n",
       "...      ...              ...       ...     ...     ...     ...     ...   \n",
       "10231  12768     Danny Murphy     Total  1474.0  5335.0   695.0  1543.0   \n",
       "13089  16276       Cy Seymour     Total  1319.0  5012.0   646.0  1537.0   \n",
       "13145  16357   Jimmy Sheckard     Total  1771.0  6332.0  1054.0  1716.0   \n",
       "14454  17994       Joe Tinker     Total  1809.0  6438.0   774.0  1690.0   \n",
       "15045  18717    Bobby Wallace     Total  1741.0  6185.0   679.0  1618.0   \n",
       "\n",
       "          2B     3B     HR  ...    GDP     SB     CS    AVG    OBP    SLG  \\\n",
       "15295  289.0   42.0  266.0  ...  144.0    9.0   22.0  0.277  0.364  0.469   \n",
       "5315   437.0   12.0  317.0  ...  207.0    6.0    7.0  0.287  0.358  0.485   \n",
       "4421   414.0   92.0   94.0  ...  161.0  246.0  138.0  0.288  0.347  0.399   \n",
       "3995   210.0   56.0   24.0  ...  134.0   33.0   42.0  0.247  0.299  0.320   \n",
       "14116  325.0    5.0  215.0  ...  142.0   53.0   25.0  0.297  0.366  0.486   \n",
       "...      ...    ...    ...  ...    ...    ...    ...    ...    ...    ...   \n",
       "10231  288.0  103.0   44.0  ...    0.0  189.0    0.0  0.289  0.336  0.407   \n",
       "13089  216.0   91.0   44.0  ...    0.0  209.0    0.0  0.307  0.355  0.412   \n",
       "13145  296.0  105.0   45.0  ...    0.0  344.0    0.0  0.271  0.376  0.372   \n",
       "14454  264.0  114.0   31.0  ...    0.0  339.0    2.0  0.263  0.308  0.353   \n",
       "15045  277.0   78.0   10.0  ...    0.0  154.0    2.0  0.262  0.326  0.336   \n",
       "\n",
       "         p_RISP   p_MenOn     p_CnL  p_BasesLoaded  \n",
       "15295  0.999586  1.000000  0.996107       0.757469  \n",
       "5315   0.999455  0.999933  0.314016       0.956818  \n",
       "4421   0.998739  0.999963  0.995968       0.470128  \n",
       "3995   0.998316  0.999748  0.368227       0.200137  \n",
       "14116  0.996094  0.999996  0.161556       0.938265  \n",
       "...         ...       ...       ...            ...  \n",
       "10231       NaN       NaN       NaN            NaN  \n",
       "13089       NaN       NaN       NaN            NaN  \n",
       "13145       NaN       NaN       NaN            NaN  \n",
       "14454       NaN       NaN       NaN            NaN  \n",
       "15045       NaN       NaN       NaN            NaN  \n",
       "\n",
       "[729 rows x 29 columns]"
      ]
     },
     "execution_count": 310,
     "metadata": {},
     "output_type": "execute_result"
    }
   ],
   "source": [
    "df_player_summary[df_player_summary[\"AB\"] > 5000].sort_values(by = \"p_RISP\", ascending = False)"
   ]
  },
  {
   "cell_type": "markdown",
   "id": "9185d9af",
   "metadata": {},
   "source": [
    "## Investigating other batting data: OBP and SLG\n",
    "\n",
    "Now, besides of the AVG, we also want to compute the $p$-values for the two other important classic factors, the OBP and SLG. They are computed as below.\n",
    "\n",
    "- OBP  -  On-Base Percentage $\\text{OBP} = \\dfrac{\\text{H} + \\text{BB} + \\text{HBP}}{\\text{AB} + \\text{BB} + \\text{HBP} + \\text{SF}}$\n",
    "-\n",
    "- SLG  -  Slugging Percentage $\\text{SLG} = \\dfrac{\\text{H} + \\text{2B} + 2\\cdot\\text{3B} + 3\\cdot\\text{HR}}{\\text{AB}}$\n",
    "\n",
    "Note that SLG is not a binary distribution, but we will also use the assumption that it approximates to a normal distribution as AB is large."
   ]
  },
  {
   "cell_type": "markdown",
   "id": "79bee27b",
   "metadata": {},
   "source": [
    "## The case of OBP"
   ]
  },
  {
   "cell_type": "code",
   "execution_count": 339,
   "id": "a6e3bf01",
   "metadata": {},
   "outputs": [
    {
     "name": "stdout",
     "output_type": "stream",
     "text": [
      "Found 8066 players with sufficient Men On data.\n",
      "[14253874.0, 4701090.0, 6023258.0, 2053602.0]\n",
      "[0.3298113902227563, 0.3409453820507108, 0.32166340891131356]\n",
      "1.059944565049093\n"
     ]
    },
    {
     "data": {
      "image/png": "[encoded data removed]",
      "text/plain": [
       "<Figure size 432x288 with 1 Axes>"
      ]
     },
     "metadata": {},
     "output_type": "display_data"
    },
    {
     "name": "stdout",
     "output_type": "stream",
     "text": [
      "8.107660515791636e-218 4.722483439407669e-30\n",
      "Found 7171 players with sufficient RISP data.\n",
      "[14139470.0, 4672643.0, 3534714.0, 1236764.0]\n",
      "[0.33046804441750643, 0.34989082567924873, 0.3239941588472191]\n",
      "1.079929425037077\n"
     ]
    },
    {
     "data": {
      "image/png": "[encoded data removed]",
      "text/plain": [
       "<Figure size 432x288 with 1 Axes>"
      ]
     },
     "metadata": {},
     "output_type": "display_data"
    },
    {
     "name": "stdout",
     "output_type": "stream",
     "text": [
      "0.0 2.5116163610529775e-13\n",
      "Found 6037 players with sufficient Close & Late data.\n",
      "[13866709.0, 4613680.0, 2259782.0, 727089.0]\n",
      "[0.33271629194785873, 0.32175183269890634, 0.33485099027503146]\n",
      "0.9608806365919179\n"
     ]
    },
    {
     "data": {
      "image/png": "[encoded data removed]",
      "text/plain": [
       "<Figure size 432x288 with 1 Axes>"
      ]
     },
     "metadata": {},
     "output_type": "display_data"
    },
    {
     "name": "stdout",
     "output_type": "stream",
     "text": [
      "2.380574375493249e-151 8.41535173857555e-05\n",
      "Found 2984 players with sufficient Bases Loaded data.\n",
      "[11808705.0, 4002162.0, 326452.0, 89300.0]\n",
      "[0.33891624864877223, 0.27354710646588165, 0.340774759099978]\n",
      "0.8027211498537871\n"
     ]
    },
    {
     "data": {
      "image/png": "[encoded data removed]",
      "text/plain": [
       "<Figure size 432x288 with 1 Axes>"
      ]
     },
     "metadata": {},
     "output_type": "display_data"
    },
    {
     "name": "stdout",
     "output_type": "stream",
     "text": [
      "0.0 3.269887568265837e-39\n"
     ]
    }
   ],
   "source": [
    "df_player_career_split[\"SF\"].fillna(0);\n",
    "\n",
    "AB_threshold = 30;\n",
    "measure_code = \"OBP\";\n",
    "\n",
    "for situation_code in [\"Men On\", \"RISP\", \"Close & Late\", \"Bases Loaded\"]:\n",
    "    temp = df_player_career_split[df_player_career_split[\"Situation\"] == situation_code];\n",
    "    temp = temp[temp[\"AB\"]+temp[\"BB\"]+temp[\"HBP\"]+temp[\"SF\"] >= AB_threshold];\n",
    "\n",
    "    situation_comp = pd.merge(df_player_career_split[df_player_career_split[\"Situation\"] == \"Total\"], temp, on = \"ID\");\n",
    "\n",
    "    print(\"Found \" + str(situation_comp.shape[0]) + \" players with sufficient \" + situation_code + \" data.\");\n",
    "\n",
    "    # Finding the regression factor\n",
    "    situation_comp[\"AP_x\"] = situation_comp[\"AB_x\"] + situation_comp[\"BB_x\"] + situation_comp[\"HBP_x\"] + situation_comp[\"SF_x\"];\n",
    "    situation_comp[\"OB_x\"] = situation_comp[\"H_x\"] + situation_comp[\"BB_x\"] + situation_comp[\"HBP_x\"];\n",
    "    situation_comp[\"AP_y\"] = situation_comp[\"AB_y\"] + situation_comp[\"BB_y\"] + situation_comp[\"HBP_y\"] + situation_comp[\"SF_x\"];\n",
    "    situation_comp[\"OB_y\"] = situation_comp[\"H_y\"] + situation_comp[\"BB_y\"] + situation_comp[\"HBP_y\"];\n",
    "\n",
    "\n",
    "    test1 = [sum(situation_comp[item]) for item in [\"AP_x\", \"OB_x\", \"AP_y\", \"OB_y\"]];\n",
    "    print(test1)\n",
    "    test1 = [test1[1]/test1[0], test1[3]/test1[2], (test1[1]-test1[3])/(test1[0]-test1[2])];\n",
    "    print(test1)\n",
    "    theta = test1[1]/test1[2];\n",
    "    print(theta)\n",
    "\n",
    "    p_situation_2 = [];\n",
    "    p_situation_3 = [];\n",
    "    for i in range(situation_comp.shape[0]):\n",
    "        temp_list = situation_comp.loc[i, [\"AP_x\", \"OB_x\", \"AP_y\", \"OB_y\"]];\n",
    "        res2 = Binomial_p_val(temp_list[1]-temp_list[3], temp_list[3], temp_list[0]-temp_list[2], temp_list[2], 0);\n",
    "        res3 = Binomial_p_val(temp_list[1]-temp_list[3], temp_list[3], temp_list[0]-temp_list[2], temp_list[2], theta);\n",
    "        p_situation_2.append(res2);\n",
    "        p_situation_3.append(res3);    \n",
    "\n",
    "    plt.plot(sorted(p_situation_2));\n",
    "    plt.plot(sorted(p_situation_3));\n",
    "    plt.show();\n",
    "\n",
    "    print(stats.kstest(p_situation_2, stats.uniform(loc=0.0).cdf).pvalue, stats.kstest(p_situation_3, stats.uniform(loc=0.0).cdf).pvalue);\n",
    "    # This is the Kolmogorov-Smirnov test, a built-in Scipy function, which measures the defiation between two distributions.\n",
    "    \n",
    "    # Update the dataframe\n",
    "    situation_comp[\"p_\"+situation_code+\"_\"+measure_code] = p_situation_3;\n",
    "    df_player_summary = pd.merge(df_player_summary, situation_comp[[\"ID\", \"p_\"+situation_code+\"_\"+measure_code]], \\\n",
    "                                 on = \"ID\", how = \"left\");\n"
   ]
  },
  {
   "cell_type": "markdown",
   "id": "1e953afd",
   "metadata": {},
   "source": [
    "The interesting part on the OBP measure is that, this time the normalized $p$-value performed much worse than the AVG measure. My explanations are:\n",
    "- When the regression ratio deviates much from 1 (say, not between 0.9 and 1.1), the linear regression is no longer accurate. Need to find a better model based on deeper statistics insights.\n",
    "- Apart from the other three situations, when the bases are loaded, the OBP is much lower than the average. This might because many batters will attempt a sacrifice fly, which does not add to the OBP."
   ]
  },
  {
   "cell_type": "markdown",
   "id": "954267f7",
   "metadata": {},
   "source": [
    "## The case of SLG\n",
    "\n",
    "Note that we need to alternate the formula. The SLG metric is equivalent to compute the expected value of a discrete dristibution, where a 1B, 2B, 3B and HR scores 1, 2, 3, 4 points, respectively. Assuming that each trial is i.i.d., with a probability $p_i$ to earn a $i$-base hit ($i = 0, 1, 2, 3, 4$), the variance is\n",
    "$$\\sigma^2 = \\sum_{i=0}^4 p_i(i-\\mu)^2.$$\n",
    "\n",
    "If there are $N$ trials, then the standard deviation of the SLG should be about $\\displaystyle\\sqrt{\\frac1N\\sum_{i=0}^4 p_i(i-\\mu)^2}$."
   ]
  },
  {
   "cell_type": "code",
   "execution_count": 374,
   "id": "f29c9c0b",
   "metadata": {},
   "outputs": [],
   "source": [
    "def Discrete_p_val(x1, x2, N1, N2, theta=0): # In our application, N1: non-RISP, N2: RISP\n",
    "    '''x1, x2 are lists of length 4, representing orrurences of 1B, 2B, 3B, HR\n",
    "    N1, N2 are the AB in each case.\n",
    "    theta is a global normalization factor, and theta = 0 means normalization is not applied.\n",
    "    '''\n",
    "    p1 = (x1[0]+x1[1]+x1[2]*2+x1[3]*3)/N1;\n",
    "    p2 = (x2[0]+x2[1]+x2[2]*2+x2[3]*3)/N2;\n",
    "    if theta != 0:\n",
    "        p2 = p2/theta;\n",
    "    \n",
    "    x = [x1[i]+x2[i] for i in range(4)];\n",
    "    N = N1 + N2;\n",
    "    p = (x[0]+x[1]+x[2]*2+x[3]*3)/N;\n",
    "    sigma2 = ((N-x[0]-x[1]-x[2]-x[3])*p**2 + x[0]*(1-p)**2 + x[1]*(2-p)**2 + x[2]*(3-p)**2 + x[3]*(4-p)**2)/N;\n",
    "    \n",
    "    return Phi((p2-p1)/np.sqrt(sigma2*(1/N1+1/N2)));"
   ]
  },
  {
   "cell_type": "code",
   "execution_count": 361,
   "id": "9b3f3700",
   "metadata": {},
   "outputs": [
    {
     "data": {
      "text/plain": [
       "[-2, -2, -2]"
      ]
     },
     "execution_count": 361,
     "metadata": {},
     "output_type": "execute_result"
    }
   ],
   "source": [
    "t1 = [1,2,3];\n",
    "t2 = [3,4,5];\n",
    "[t1[i]+t2[i] for i in range(3)]\n",
    "list(map(lambda a, b:a-b, t1, t2))"
   ]
  },
  {
   "cell_type": "code",
   "execution_count": 377,
   "id": "0fe81ca1",
   "metadata": {},
   "outputs": [
    {
     "name": "stdout",
     "output_type": "stream",
     "text": [
      "Found 7933 players with sufficient Men On data.\n",
      "[12832445.0, 5061412.0, 5326841.0, 2148357.0]\n",
      "[0.3944230425300868, 0.4033078892349143, 0.388117332062816]\n",
      "1.0391390848003657\n"
     ]
    },
    {
     "data": {
      "image/png": "[encoded data removed]",
      "text/plain": [
       "<Figure size 432x288 with 1 Axes>"
      ]
     },
     "metadata": {},
     "output_type": "display_data"
    },
    {
     "name": "stdout",
     "output_type": "stream",
     "text": [
      "3.2560394162127407e-13 1.0710598569806276e-53\n",
      "Found 6996 players with sufficient RISP data.\n",
      "[12715568.0, 5031064.0, 3022597.0, 1203323.0]\n",
      "[0.39566175887699234, 0.3981089771477971, 0.39489863324671043]\n",
      "1.008129539154624\n"
     ]
    },
    {
     "data": {
      "image/png": "[encoded data removed]",
      "text/plain": [
       "<Figure size 432x288 with 1 Axes>"
      ]
     },
     "metadata": {},
     "output_type": "display_data"
    },
    {
     "name": "stdout",
     "output_type": "stream",
     "text": [
      "0.00999026407735957 3.154249091551762e-11\n",
      "Found 5910 players with sufficient Close & Late data.\n",
      "[12456418.0, 4973718.0, 1959958.0, 744306.0]\n",
      "[0.39928958710280915, 0.3797560968143195, 0.40293699018526247]\n",
      "0.9424701778799587\n"
     ]
    },
    {
     "data": {
      "image/png": "[encoded data removed]",
      "text/plain": [
       "<Figure size 432x288 with 1 Axes>"
      ]
     },
     "metadata": {},
     "output_type": "display_data"
    },
    {
     "name": "stdout",
     "output_type": "stream",
     "text": [
      "1.14988389200917e-168 2.3937611785585723e-06\n",
      "Found 2781 players with sufficient Bases Loaded data.\n",
      "[10351603.0, 4272606.0, 232191.0, 101918.0]\n",
      "[0.41274824778345925, 0.4389403551386574, 0.41214726705464705]\n",
      "1.0650085302651244\n"
     ]
    },
    {
     "data": {
      "image/png": "[encoded data removed]",
      "text/plain": [
       "<Figure size 432x288 with 1 Axes>"
      ]
     },
     "metadata": {},
     "output_type": "display_data"
    },
    {
     "name": "stdout",
     "output_type": "stream",
     "text": [
      "4.976066574921839e-18 0.007107382844940056\n"
     ]
    }
   ],
   "source": [
    "\n",
    "AB_threshold = 30;\n",
    "measure_code = \"SLG\";\n",
    "\n",
    "for situation_code in [\"Men On\", \"RISP\", \"Close & Late\", \"Bases Loaded\"]:\n",
    "    temp = df_player_career_split[df_player_career_split[\"Situation\"] == situation_code];\n",
    "    temp = temp[temp[\"AB\"] >= AB_threshold];\n",
    "\n",
    "    situation_comp = pd.merge(df_player_career_split[df_player_career_split[\"Situation\"] == \"Total\"], temp, on = \"ID\");\n",
    "\n",
    "    print(\"Found \" + str(situation_comp.shape[0]) + \" players with sufficient \" + situation_code + \" data.\");\n",
    "\n",
    "    # Finding the regression factor\n",
    "    situation_comp[\"SLG_x\"] = situation_comp[\"H_x\"] + situation_comp[\"2B_x\"] + 2*situation_comp[\"3B_x\"]\\\n",
    "                              + 3*situation_comp[\"HR_x\"];\n",
    "    situation_comp[\"SLG_y\"] = situation_comp[\"H_y\"] + situation_comp[\"2B_y\"] + 2*situation_comp[\"3B_y\"]\\\n",
    "                              + 3*situation_comp[\"HR_y\"];\n",
    "\n",
    "\n",
    "    test1 = [sum(situation_comp[item]) for item in [\"AB_x\", \"SLG_x\", \"AB_y\", \"SLG_y\"]];\n",
    "    print(test1)\n",
    "    ################ do things here mu_x = 1;\n",
    "    test1 = [test1[1]/test1[0], test1[3]/test1[2], (test1[1]-test1[3])/(test1[0]-test1[2])];\n",
    "    print(test1)\n",
    "    theta = test1[1]/test1[2];\n",
    "    print(theta)\n",
    "\n",
    "    p_situation_2 = [];\n",
    "    p_situation_3 = [];\n",
    "    for i in range(situation_comp.shape[0]):\n",
    "        temp_list = situation_comp.loc[i, [\"AB_x\", \"H_x\", \"2B_x\", \"3B_x\", \"HR_x\", \"AB_y\", \"H_y\", \"2B_y\", \"3B_y\", \"HR_y\"]];\n",
    "        x12 = temp_list[1:5];\n",
    "        x2 = temp_list[6:10];\n",
    "        x1 = list(map(lambda a, b:a-b, x12, x2));\n",
    "        res2 = Discrete_p_val(x1, x2, temp_list[0]-temp_list[5], temp_list[5], 0);\n",
    "        res3 = Discrete_p_val(x1, x2, temp_list[0]-temp_list[5], temp_list[5], theta);\n",
    "        p_situation_2.append(res2);\n",
    "        p_situation_3.append(res3);    \n",
    "\n",
    "    plt.plot(sorted(p_situation_2));\n",
    "    plt.plot(sorted(p_situation_3));\n",
    "    plt.show();\n",
    "\n",
    "    print(stats.kstest(p_situation_2, stats.uniform(loc=0.0).cdf).pvalue, stats.kstest(p_situation_3, stats.uniform(loc=0.0).cdf).pvalue);\n",
    "    # This is the Kolmogorov-Smirnov test, a built-in Scipy function, which measures the defiation between two distributions.\n",
    "    \n",
    "    # Update the dataframe\n",
    "    situation_comp[\"p_\"+situation_code+\"_\"+measure_code] = p_situation_3;\n",
    "    df_player_summary = pd.merge(df_player_summary, situation_comp[[\"ID\", \"p_\"+situation_code+\"_\"+measure_code]], \\\n",
    "                                 on = \"ID\", how = \"left\");\n"
   ]
  },
  {
   "cell_type": "code",
   "execution_count": 376,
   "id": "93c99103",
   "metadata": {
    "scrolled": false
   },
   "outputs": [
    {
     "data": {
      "text/html": [
       "<div>\n",
       "<style scoped>\n",
       "    .dataframe tbody tr th:only-of-type {\n",
       "        vertical-align: middle;\n",
       "    }\n",
       "\n",
       "    .dataframe tbody tr th {\n",
       "        vertical-align: top;\n",
       "    }\n",
       "\n",
       "    .dataframe thead th {\n",
       "        text-align: right;\n",
       "    }\n",
       "</style>\n",
       "<table border=\"1\" class=\"dataframe\">\n",
       "  <thead>\n",
       "    <tr style=\"text-align: right;\">\n",
       "      <th></th>\n",
       "      <th>ID</th>\n",
       "      <th>Name</th>\n",
       "      <th>Situation</th>\n",
       "      <th>G</th>\n",
       "      <th>AB</th>\n",
       "      <th>R</th>\n",
       "      <th>H</th>\n",
       "      <th>2B</th>\n",
       "      <th>3B</th>\n",
       "      <th>HR</th>\n",
       "      <th>...</th>\n",
       "      <th>p_Close &amp; Late_OBP_x</th>\n",
       "      <th>p_Bases Loaded_OBP_x</th>\n",
       "      <th>p_Men On_OBP_y</th>\n",
       "      <th>p_RISP_OBP_y</th>\n",
       "      <th>p_Close &amp; Late_OBP_y</th>\n",
       "      <th>p_Bases Loaded_OBP_y</th>\n",
       "      <th>p_Men On_OBP</th>\n",
       "      <th>p_RISP_OBP</th>\n",
       "      <th>p_Close &amp; Late_OBP</th>\n",
       "      <th>p_Bases Loaded_OBP</th>\n",
       "    </tr>\n",
       "  </thead>\n",
       "  <tbody>\n",
       "    <tr>\n",
       "      <th>0</th>\n",
       "      <td>0</td>\n",
       "      <td>David Aardsma</td>\n",
       "      <td>Total</td>\n",
       "      <td>331.0</td>\n",
       "      <td>4.0</td>\n",
       "      <td>0.0</td>\n",
       "      <td>0.0</td>\n",
       "      <td>0.0</td>\n",
       "      <td>0.0</td>\n",
       "      <td>0.0</td>\n",
       "      <td>...</td>\n",
       "      <td>NaN</td>\n",
       "      <td>NaN</td>\n",
       "      <td>NaN</td>\n",
       "      <td>NaN</td>\n",
       "      <td>NaN</td>\n",
       "      <td>NaN</td>\n",
       "      <td>NaN</td>\n",
       "      <td>NaN</td>\n",
       "      <td>NaN</td>\n",
       "      <td>NaN</td>\n",
       "    </tr>\n",
       "    <tr>\n",
       "      <th>1</th>\n",
       "      <td>1</td>\n",
       "      <td>Hank Aaron</td>\n",
       "      <td>Total</td>\n",
       "      <td>3298.0</td>\n",
       "      <td>12364.0</td>\n",
       "      <td>2175.0</td>\n",
       "      <td>3771.0</td>\n",
       "      <td>624.0</td>\n",
       "      <td>98.0</td>\n",
       "      <td>755.0</td>\n",
       "      <td>...</td>\n",
       "      <td>0.999738</td>\n",
       "      <td>0.000912</td>\n",
       "      <td>0.991706</td>\n",
       "      <td>0.999999</td>\n",
       "      <td>0.999572</td>\n",
       "      <td>0.029152</td>\n",
       "      <td>0.976074</td>\n",
       "      <td>0.999979</td>\n",
       "      <td>0.999738</td>\n",
       "      <td>0.000912</td>\n",
       "    </tr>\n",
       "    <tr>\n",
       "      <th>2</th>\n",
       "      <td>2</td>\n",
       "      <td>Tommie Aaron</td>\n",
       "      <td>Total</td>\n",
       "      <td>437.0</td>\n",
       "      <td>944.0</td>\n",
       "      <td>102.0</td>\n",
       "      <td>216.0</td>\n",
       "      <td>42.0</td>\n",
       "      <td>6.0</td>\n",
       "      <td>13.0</td>\n",
       "      <td>...</td>\n",
       "      <td>0.735283</td>\n",
       "      <td>0.389768</td>\n",
       "      <td>0.679117</td>\n",
       "      <td>0.726550</td>\n",
       "      <td>0.713267</td>\n",
       "      <td>0.296655</td>\n",
       "      <td>0.653427</td>\n",
       "      <td>0.691731</td>\n",
       "      <td>0.735283</td>\n",
       "      <td>0.389768</td>\n",
       "    </tr>\n",
       "    <tr>\n",
       "      <th>3</th>\n",
       "      <td>3</td>\n",
       "      <td>Don Aase</td>\n",
       "      <td>Total</td>\n",
       "      <td>448.0</td>\n",
       "      <td>5.0</td>\n",
       "      <td>0.0</td>\n",
       "      <td>0.0</td>\n",
       "      <td>0.0</td>\n",
       "      <td>0.0</td>\n",
       "      <td>0.0</td>\n",
       "      <td>...</td>\n",
       "      <td>NaN</td>\n",
       "      <td>NaN</td>\n",
       "      <td>NaN</td>\n",
       "      <td>NaN</td>\n",
       "      <td>NaN</td>\n",
       "      <td>NaN</td>\n",
       "      <td>NaN</td>\n",
       "      <td>NaN</td>\n",
       "      <td>NaN</td>\n",
       "      <td>NaN</td>\n",
       "    </tr>\n",
       "    <tr>\n",
       "      <th>4</th>\n",
       "      <td>4</td>\n",
       "      <td>Andy Abad</td>\n",
       "      <td>Total</td>\n",
       "      <td>15.0</td>\n",
       "      <td>21.0</td>\n",
       "      <td>1.0</td>\n",
       "      <td>2.0</td>\n",
       "      <td>0.0</td>\n",
       "      <td>0.0</td>\n",
       "      <td>0.0</td>\n",
       "      <td>...</td>\n",
       "      <td>NaN</td>\n",
       "      <td>NaN</td>\n",
       "      <td>NaN</td>\n",
       "      <td>NaN</td>\n",
       "      <td>NaN</td>\n",
       "      <td>NaN</td>\n",
       "      <td>NaN</td>\n",
       "      <td>NaN</td>\n",
       "      <td>NaN</td>\n",
       "      <td>NaN</td>\n",
       "    </tr>\n",
       "    <tr>\n",
       "      <th>...</th>\n",
       "      <td>...</td>\n",
       "      <td>...</td>\n",
       "      <td>...</td>\n",
       "      <td>...</td>\n",
       "      <td>...</td>\n",
       "      <td>...</td>\n",
       "      <td>...</td>\n",
       "      <td>...</td>\n",
       "      <td>...</td>\n",
       "      <td>...</td>\n",
       "      <td>...</td>\n",
       "      <td>...</td>\n",
       "      <td>...</td>\n",
       "      <td>...</td>\n",
       "      <td>...</td>\n",
       "      <td>...</td>\n",
       "      <td>...</td>\n",
       "      <td>...</td>\n",
       "      <td>...</td>\n",
       "      <td>...</td>\n",
       "      <td>...</td>\n",
       "    </tr>\n",
       "    <tr>\n",
       "      <th>15997</th>\n",
       "      <td>19913</td>\n",
       "      <td>Bob Zupcic</td>\n",
       "      <td>Total</td>\n",
       "      <td>319.0</td>\n",
       "      <td>795.0</td>\n",
       "      <td>99.0</td>\n",
       "      <td>199.0</td>\n",
       "      <td>47.0</td>\n",
       "      <td>4.0</td>\n",
       "      <td>7.0</td>\n",
       "      <td>...</td>\n",
       "      <td>0.847943</td>\n",
       "      <td>NaN</td>\n",
       "      <td>0.832846</td>\n",
       "      <td>0.733341</td>\n",
       "      <td>0.827218</td>\n",
       "      <td>NaN</td>\n",
       "      <td>0.741574</td>\n",
       "      <td>0.558932</td>\n",
       "      <td>0.847943</td>\n",
       "      <td>NaN</td>\n",
       "    </tr>\n",
       "    <tr>\n",
       "      <th>15998</th>\n",
       "      <td>19914</td>\n",
       "      <td>Frank Zupo</td>\n",
       "      <td>Total</td>\n",
       "      <td>16.0</td>\n",
       "      <td>18.0</td>\n",
       "      <td>3.0</td>\n",
       "      <td>3.0</td>\n",
       "      <td>1.0</td>\n",
       "      <td>0.0</td>\n",
       "      <td>0.0</td>\n",
       "      <td>...</td>\n",
       "      <td>NaN</td>\n",
       "      <td>NaN</td>\n",
       "      <td>NaN</td>\n",
       "      <td>NaN</td>\n",
       "      <td>NaN</td>\n",
       "      <td>NaN</td>\n",
       "      <td>NaN</td>\n",
       "      <td>NaN</td>\n",
       "      <td>NaN</td>\n",
       "      <td>NaN</td>\n",
       "    </tr>\n",
       "    <tr>\n",
       "      <th>15999</th>\n",
       "      <td>19915</td>\n",
       "      <td>Paul Zuvella</td>\n",
       "      <td>Total</td>\n",
       "      <td>209.0</td>\n",
       "      <td>491.0</td>\n",
       "      <td>41.0</td>\n",
       "      <td>109.0</td>\n",
       "      <td>17.0</td>\n",
       "      <td>2.0</td>\n",
       "      <td>2.0</td>\n",
       "      <td>...</td>\n",
       "      <td>0.690515</td>\n",
       "      <td>NaN</td>\n",
       "      <td>0.157339</td>\n",
       "      <td>0.107314</td>\n",
       "      <td>0.688773</td>\n",
       "      <td>NaN</td>\n",
       "      <td>0.218037</td>\n",
       "      <td>0.172005</td>\n",
       "      <td>0.690515</td>\n",
       "      <td>NaN</td>\n",
       "    </tr>\n",
       "    <tr>\n",
       "      <th>16000</th>\n",
       "      <td>19916</td>\n",
       "      <td>George Zuverink</td>\n",
       "      <td>Total</td>\n",
       "      <td>266.0</td>\n",
       "      <td>141.0</td>\n",
       "      <td>5.0</td>\n",
       "      <td>21.0</td>\n",
       "      <td>2.0</td>\n",
       "      <td>1.0</td>\n",
       "      <td>0.0</td>\n",
       "      <td>...</td>\n",
       "      <td>0.948902</td>\n",
       "      <td>NaN</td>\n",
       "      <td>0.251209</td>\n",
       "      <td>0.174635</td>\n",
       "      <td>0.948534</td>\n",
       "      <td>NaN</td>\n",
       "      <td>0.282063</td>\n",
       "      <td>0.208580</td>\n",
       "      <td>0.948902</td>\n",
       "      <td>NaN</td>\n",
       "    </tr>\n",
       "    <tr>\n",
       "      <th>16001</th>\n",
       "      <td>19917</td>\n",
       "      <td>Dutch Zwilling</td>\n",
       "      <td>Total</td>\n",
       "      <td>367.0</td>\n",
       "      <td>1282.0</td>\n",
       "      <td>166.0</td>\n",
       "      <td>366.0</td>\n",
       "      <td>76.0</td>\n",
       "      <td>15.0</td>\n",
       "      <td>30.0</td>\n",
       "      <td>...</td>\n",
       "      <td>0.485384</td>\n",
       "      <td>NaN</td>\n",
       "      <td>0.696106</td>\n",
       "      <td>0.921437</td>\n",
       "      <td>0.482847</td>\n",
       "      <td>NaN</td>\n",
       "      <td>0.814223</td>\n",
       "      <td>0.976420</td>\n",
       "      <td>0.485384</td>\n",
       "      <td>NaN</td>\n",
       "    </tr>\n",
       "  </tbody>\n",
       "</table>\n",
       "<p>16002 rows × 41 columns</p>\n",
       "</div>"
      ],
      "text/plain": [
       "          ID             Name Situation       G       AB       R       H  \\\n",
       "0          0    David Aardsma     Total   331.0      4.0     0.0     0.0   \n",
       "1          1       Hank Aaron     Total  3298.0  12364.0  2175.0  3771.0   \n",
       "2          2     Tommie Aaron     Total   437.0    944.0   102.0   216.0   \n",
       "3          3         Don Aase     Total   448.0      5.0     0.0     0.0   \n",
       "4          4        Andy Abad     Total    15.0     21.0     1.0     2.0   \n",
       "...      ...              ...       ...     ...      ...     ...     ...   \n",
       "15997  19913       Bob Zupcic     Total   319.0    795.0    99.0   199.0   \n",
       "15998  19914       Frank Zupo     Total    16.0     18.0     3.0     3.0   \n",
       "15999  19915     Paul Zuvella     Total   209.0    491.0    41.0   109.0   \n",
       "16000  19916  George Zuverink     Total   266.0    141.0     5.0    21.0   \n",
       "16001  19917   Dutch Zwilling     Total   367.0   1282.0   166.0   366.0   \n",
       "\n",
       "          2B    3B     HR  ...  p_Close & Late_OBP_x  p_Bases Loaded_OBP_x  \\\n",
       "0        0.0   0.0    0.0  ...                   NaN                   NaN   \n",
       "1      624.0  98.0  755.0  ...              0.999738              0.000912   \n",
       "2       42.0   6.0   13.0  ...              0.735283              0.389768   \n",
       "3        0.0   0.0    0.0  ...                   NaN                   NaN   \n",
       "4        0.0   0.0    0.0  ...                   NaN                   NaN   \n",
       "...      ...   ...    ...  ...                   ...                   ...   \n",
       "15997   47.0   4.0    7.0  ...              0.847943                   NaN   \n",
       "15998    1.0   0.0    0.0  ...                   NaN                   NaN   \n",
       "15999   17.0   2.0    2.0  ...              0.690515                   NaN   \n",
       "16000    2.0   1.0    0.0  ...              0.948902                   NaN   \n",
       "16001   76.0  15.0   30.0  ...              0.485384                   NaN   \n",
       "\n",
       "       p_Men On_OBP_y  p_RISP_OBP_y  p_Close & Late_OBP_y  \\\n",
       "0                 NaN           NaN                   NaN   \n",
       "1            0.991706      0.999999              0.999572   \n",
       "2            0.679117      0.726550              0.713267   \n",
       "3                 NaN           NaN                   NaN   \n",
       "4                 NaN           NaN                   NaN   \n",
       "...               ...           ...                   ...   \n",
       "15997        0.832846      0.733341              0.827218   \n",
       "15998             NaN           NaN                   NaN   \n",
       "15999        0.157339      0.107314              0.688773   \n",
       "16000        0.251209      0.174635              0.948534   \n",
       "16001        0.696106      0.921437              0.482847   \n",
       "\n",
       "       p_Bases Loaded_OBP_y  p_Men On_OBP  p_RISP_OBP  p_Close & Late_OBP  \\\n",
       "0                       NaN           NaN         NaN                 NaN   \n",
       "1                  0.029152      0.976074    0.999979            0.999738   \n",
       "2                  0.296655      0.653427    0.691731            0.735283   \n",
       "3                       NaN           NaN         NaN                 NaN   \n",
       "4                       NaN           NaN         NaN                 NaN   \n",
       "...                     ...           ...         ...                 ...   \n",
       "15997                   NaN      0.741574    0.558932            0.847943   \n",
       "15998                   NaN           NaN         NaN                 NaN   \n",
       "15999                   NaN      0.218037    0.172005            0.690515   \n",
       "16000                   NaN      0.282063    0.208580            0.948902   \n",
       "16001                   NaN      0.814223    0.976420            0.485384   \n",
       "\n",
       "       p_Bases Loaded_OBP  \n",
       "0                     NaN  \n",
       "1                0.000912  \n",
       "2                0.389768  \n",
       "3                     NaN  \n",
       "4                     NaN  \n",
       "...                   ...  \n",
       "15997                 NaN  \n",
       "15998                 NaN  \n",
       "15999                 NaN  \n",
       "16000                 NaN  \n",
       "16001                 NaN  \n",
       "\n",
       "[16002 rows x 41 columns]"
      ]
     },
     "execution_count": 376,
     "metadata": {},
     "output_type": "execute_result"
    }
   ],
   "source": [
    "len(p_situation_2)\n",
    "df_player_summary = df_player_summary.drop([\"p_Men On_SLG\", \"p_RISP_SLG\", \"p_Close & Late_SLG\", \"p_Bases Loaded_SLG\"], axis = 1);\n",
    "df_player_summary"
   ]
  },
  {
   "cell_type": "markdown",
   "id": "12481151",
   "metadata": {},
   "source": [
    "There is an interesting \"reverse normalization\" phemenon on the first two situations, \"Men on Bases\" and \"RISP\". I am still trying to find an explantion on these two categories. It might be due to different batting strategies between scenarios."
   ]
  },
  {
   "cell_type": "markdown",
   "id": "1a9c2676",
   "metadata": {},
   "source": [
    "## An analysis on the correlations between the normalized $p$-values and other factors"
   ]
  },
  {
   "cell_type": "code",
   "execution_count": 381,
   "id": "56bd9d8c",
   "metadata": {},
   "outputs": [
    {
     "ename": "TypeError",
     "evalue": "'Index' object is not callable",
     "output_type": "error",
     "traceback": [
      "\u001b[1;31m---------------------------------------------------------------------------\u001b[0m",
      "\u001b[1;31mTypeError\u001b[0m                                 Traceback (most recent call last)",
      "\u001b[1;32m<ipython-input-381-e6bb36de38e2>\u001b[0m in \u001b[0;36m<module>\u001b[1;34m\u001b[0m\n\u001b[1;32m----> 1\u001b[1;33m \u001b[0mdf_player_summary\u001b[0m\u001b[1;33m.\u001b[0m\u001b[0mcolumns\u001b[0m\u001b[1;33m(\u001b[0m\u001b[1;33m)\u001b[0m\u001b[1;33m\u001b[0m\u001b[1;33m\u001b[0m\u001b[0m\n\u001b[0m",
      "\u001b[1;31mTypeError\u001b[0m: 'Index' object is not callable"
     ]
    }
   ],
   "source": [
    "df_player_summary.columns()"
   ]
  },
  {
   "cell_type": "code",
   "execution_count": 304,
   "id": "2c02871a",
   "metadata": {
    "scrolled": false
   },
   "outputs": [
    {
     "data": {
      "text/html": [
       "<div>\n",
       "<style scoped>\n",
       "    .dataframe tbody tr th:only-of-type {\n",
       "        vertical-align: middle;\n",
       "    }\n",
       "\n",
       "    .dataframe tbody tr th {\n",
       "        vertical-align: top;\n",
       "    }\n",
       "\n",
       "    .dataframe thead th {\n",
       "        text-align: right;\n",
       "    }\n",
       "</style>\n",
       "<table border=\"1\" class=\"dataframe\">\n",
       "  <thead>\n",
       "    <tr style=\"text-align: right;\">\n",
       "      <th></th>\n",
       "      <th>ID</th>\n",
       "      <th>Name</th>\n",
       "      <th>Situation</th>\n",
       "      <th>G</th>\n",
       "      <th>AB</th>\n",
       "      <th>R</th>\n",
       "      <th>H</th>\n",
       "      <th>2B</th>\n",
       "      <th>3B</th>\n",
       "      <th>HR</th>\n",
       "      <th>...</th>\n",
       "      <th>GDP</th>\n",
       "      <th>SB</th>\n",
       "      <th>CS</th>\n",
       "      <th>AVG</th>\n",
       "      <th>OBP</th>\n",
       "      <th>SLG</th>\n",
       "      <th>p_RISP</th>\n",
       "      <th>p_MenOn</th>\n",
       "      <th>p_CnL</th>\n",
       "      <th>p_BasesLoaded</th>\n",
       "    </tr>\n",
       "  </thead>\n",
       "  <tbody>\n",
       "    <tr>\n",
       "      <th>5431</th>\n",
       "      <td>6804</td>\n",
       "      <td>Mark Grace</td>\n",
       "      <td>Total</td>\n",
       "      <td>2245.0</td>\n",
       "      <td>8065.0</td>\n",
       "      <td>1179.0</td>\n",
       "      <td>2445.0</td>\n",
       "      <td>511.0</td>\n",
       "      <td>45.0</td>\n",
       "      <td>173.0</td>\n",
       "      <td>...</td>\n",
       "      <td>192.0</td>\n",
       "      <td>70.0</td>\n",
       "      <td>48.0</td>\n",
       "      <td>0.303</td>\n",
       "      <td>0.383</td>\n",
       "      <td>0.442</td>\n",
       "      <td>0.735907</td>\n",
       "      <td>0.999968</td>\n",
       "      <td>0.914197</td>\n",
       "      <td>0.97239</td>\n",
       "    </tr>\n",
       "  </tbody>\n",
       "</table>\n",
       "<p>1 rows × 29 columns</p>\n",
       "</div>"
      ],
      "text/plain": [
       "        ID        Name Situation       G      AB       R       H     2B    3B  \\\n",
       "5431  6804  Mark Grace     Total  2245.0  8065.0  1179.0  2445.0  511.0  45.0   \n",
       "\n",
       "         HR  ...    GDP    SB    CS    AVG    OBP    SLG    p_RISP   p_MenOn  \\\n",
       "5431  173.0  ...  192.0  70.0  48.0  0.303  0.383  0.442  0.735907  0.999968   \n",
       "\n",
       "         p_CnL  p_BasesLoaded  \n",
       "5431  0.914197        0.97239  \n",
       "\n",
       "[1 rows x 29 columns]"
      ]
     },
     "execution_count": 304,
     "metadata": {},
     "output_type": "execute_result"
    }
   ],
   "source": [
    "df_player_summary[df_player_summary[\"Name\"] == \"Mark Grace\"]"
   ]
  },
  {
   "cell_type": "markdown",
   "id": "6b6ba7cb",
   "metadata": {},
   "source": [
    "## Some statistical references\n",
    "\n",
    "- How can we determine whether two processes produce the same proportion of defectives? From NIST\n",
    "    https://www.itl.nist.gov/div898/handbook/prc/section3/prc33.htm\n",
    "- Fischer's exact test (have implementation in scipy)\n",
    "    https://en.wikipedia.org/wiki/Fisher's_exact_test\n",
    "- Barnard's test (have documentation in scipy, but the function seemed to be removed)\n",
    "    https://en.wikipedia.org/wiki/Barnard%27s_test\n"
   ]
  }
 ],
 "metadata": {
  "kernelspec": {
   "display_name": "Python 3",
   "language": "python",
   "name": "python3"
  },
  "language_info": {
   "codemirror_mode": {
    "name": "ipython",
    "version": 3
   },
   "file_extension": ".py",
   "mimetype": "text/x-python",
   "name": "python",
   "nbconvert_exporter": "python",
   "pygments_lexer": "ipython3",
   "version": "3.8.8"
  }
 },
 "nbformat": 4,
 "nbformat_minor": 5
}
