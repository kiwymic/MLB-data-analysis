{
 "cells": [
  {
   "cell_type": "markdown",
   "id": "7a95ce6c",
   "metadata": {},
   "source": [
    "## MLB data analysis 1: Using the career split data"
   ]
  },
  {
   "cell_type": "code",
   "execution_count": 119,
   "id": "d7e28669",
   "metadata": {},
   "outputs": [],
   "source": [
    "import pandas as pd;\n",
    "import numpy as np;\n",
    "\n",
    "from matplotlib import pyplot as plt\n",
    "plt.style.use('ggplot');\n",
    "import scipy.stats as stats\n",
    "\n",
    "columns_career = [\"ID\", \"Name\", \"Situation\", \"G\", \"AB\", \"R\", \"H\", \"2B\", \"3B\", \"HR\", \"RBI\", \"BB\", \"IBB\", \"SO\", \"HBP\", \"SH\", \\\n",
    "                 \"SF\", \"XI\", \"ROE\", \"GDP\", \"SB\", \"CS\", \"AVG\", \"OBP\", \"SLG\"]; # len() = 25\n",
    "columns_dtype = [str]*3 + [np.float64]*22;\n",
    "\n",
    "columns_dtype_dict = dict(zip(columns_career, columns_dtype));"
   ]
  },
  {
   "cell_type": "code",
   "execution_count": 38,
   "id": "a23ce361",
   "metadata": {},
   "outputs": [],
   "source": [
    "df_player_career_split = pd.read_csv(\"player_career_split_data.csv\", usecols = columns_career, dtype = columns_dtype_dict);"
   ]
  },
  {
   "cell_type": "code",
   "execution_count": 97,
   "id": "4434989a",
   "metadata": {},
   "outputs": [],
   "source": [
    "AB_threshold = 30;\n",
    "\n",
    "temp = df_player_career_split[df_player_career_split[\"Situation\"] == \"RISP\"];\n",
    "temp = temp[temp[\"AB\"] >= AB_threshold];\n",
    "\n",
    "RISP_comp = pd.merge(df_player_career_split[df_player_career_split[\"Situation\"] == \"Total\"], temp, on = \"ID\");\n",
    "# RISP_comp.loc[0] # Total: 3771, 12364, 964, 2956\n",
    "#.merge(df_player_career_split[df_player_career_split[\"Situation\"] == \"RISP\"], on = \"ID\")\n",
    "\n",
    "\n",
    "# print(RISP_comp.loc[RISP_comp.shape[0]-1])\n",
    "res = stats.fisher_exact([[3771-964,964], [8593-1992,1992]], alternative=\"greater\");\n",
    "res[1];"
   ]
  },
  {
   "cell_type": "code",
   "execution_count": 114,
   "id": "4c1b85a9",
   "metadata": {},
   "outputs": [],
   "source": [
    "p_RISP = [];\n",
    "for i in range(RISP_comp.shape[0]):\n",
    "    temp_list = RISP_comp.loc[i, [\"AB_x\", \"H_x\", \"AB_y\", \"H_y\"]];\n",
    "    res = stats.fisher_exact([[temp_list[1]-temp_list[3], temp_list[3]], \\\n",
    "                              [temp_list[0]-temp_list[2]-(temp_list[1]-temp_list[3]), temp_list[2]-temp_list[3]]], \\\n",
    "                             alternative=\"greater\")[1];\n",
    "    p_RISP.append(res);"
   ]
  },
  {
   "cell_type": "code",
   "execution_count": 120,
   "id": "31ce67ee",
   "metadata": {},
   "outputs": [
    {
     "data": {
      "text/plain": [
       "[<matplotlib.lines.Line2D at 0x17019a1c880>]"
      ]
     },
     "execution_count": 120,
     "metadata": {},
     "output_type": "execute_result"
    },
    {
     "data": {
      "image/png": "[encoded data removed]",
      "text/plain": [
       "<Figure size 432x288 with 1 Axes>"
      ]
     },
     "metadata": {},
     "output_type": "display_data"
    }
   ],
   "source": [
    "test = sorted(p_RISP)\n",
    "plt.plot(test)"
   ]
  },
  {
   "cell_type": "markdown",
   "id": "af26c1b4",
   "metadata": {},
   "source": [
    "## Some statistical references\n",
    "\n",
    "- How can we determine whether two processes produce the same proportion of defectives? From NIST\n",
    "    https://www.itl.nist.gov/div898/handbook/prc/section3/prc33.htm\n",
    "- Fischer's exact test (have implementation in scipy)\n",
    "    https://en.wikipedia.org/wiki/Fisher's_exact_test\n",
    "- Barnard's test (have documentation in scipy, but the function seemed to be removed)\n",
    "    https://en.wikipedia.org/wiki/Barnard%27s_test\n"
   ]
  }
 ],
 "metadata": {
  "kernelspec": {
   "display_name": "Python 3",
   "language": "python",
   "name": "python3"
  },
  "language_info": {
   "codemirror_mode": {
    "name": "ipython",
    "version": 3
   },
   "file_extension": ".py",
   "mimetype": "text/x-python",
   "name": "python",
   "nbconvert_exporter": "python",
   "pygments_lexer": "ipython3",
   "version": "3.8.8"
  }
 },
 "nbformat": 4,
 "nbformat_minor": 5
}
