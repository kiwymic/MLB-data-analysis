{
 "cells": [
  {
   "cell_type": "markdown",
   "id": "d63bb40c",
   "metadata": {},
   "source": [
    "# Scraping data from Retrosheet.org: Part 2 - parsing the split page"
   ]
  },
  {
   "cell_type": "code",
   "execution_count": 18,
   "id": "b24ca4bd",
   "metadata": {},
   "outputs": [],
   "source": [
    "from bs4 import BeautifulSoup;\n",
    "import requests;\n",
    "import re;\n",
    "import pandas as pd;\n",
    "import numpy as np;\n",
    "\n",
    "headers = {'User-Agent': 'Mozilla/5.0 (Windows NT 10.0; \\\n",
    "    Win64; x64) AppleWebKit/537.36 (KHTML, like Gecko) Chrome/88.0.4324.104 Safari/537.36'};\n",
    "retro_page_affix = \"https://www.retrosheet.org/boxesetc/\";\n"
   ]
  },
  {
   "cell_type": "code",
   "execution_count": 19,
   "id": "e1c90291",
   "metadata": {},
   "outputs": [
    {
     "data": {
      "text/html": [
       "<div>\n",
       "<style scoped>\n",
       "    .dataframe tbody tr th:only-of-type {\n",
       "        vertical-align: middle;\n",
       "    }\n",
       "\n",
       "    .dataframe tbody tr th {\n",
       "        vertical-align: top;\n",
       "    }\n",
       "\n",
       "    .dataframe thead th {\n",
       "        text-align: right;\n",
       "    }\n",
       "</style>\n",
       "<table border=\"1\" class=\"dataframe\">\n",
       "  <thead>\n",
       "    <tr style=\"text-align: right;\">\n",
       "      <th></th>\n",
       "      <th>ID</th>\n",
       "      <th>Name</th>\n",
       "      <th>split_url</th>\n",
       "    </tr>\n",
       "  </thead>\n",
       "  <tbody>\n",
       "    <tr>\n",
       "      <th>0</th>\n",
       "      <td>0</td>\n",
       "      <td>David Aardsma</td>\n",
       "      <td>https://www.retrosheet.org/boxesetc/A/Jaardd00...</td>\n",
       "    </tr>\n",
       "    <tr>\n",
       "      <th>1</th>\n",
       "      <td>1</td>\n",
       "      <td>Hank Aaron</td>\n",
       "      <td>https://www.retrosheet.org/boxesetc/A/Jaaroh10...</td>\n",
       "    </tr>\n",
       "    <tr>\n",
       "      <th>2</th>\n",
       "      <td>2</td>\n",
       "      <td>Tommie Aaron</td>\n",
       "      <td>https://www.retrosheet.org/boxesetc/A/Jaarot10...</td>\n",
       "    </tr>\n",
       "    <tr>\n",
       "      <th>3</th>\n",
       "      <td>3</td>\n",
       "      <td>Don Aase</td>\n",
       "      <td>https://www.retrosheet.org/boxesetc/A/Jaased00...</td>\n",
       "    </tr>\n",
       "    <tr>\n",
       "      <th>4</th>\n",
       "      <td>4</td>\n",
       "      <td>Andy Abad</td>\n",
       "      <td>https://www.retrosheet.org/boxesetc/A/Jabada00...</td>\n",
       "    </tr>\n",
       "    <tr>\n",
       "      <th>...</th>\n",
       "      <td>...</td>\n",
       "      <td>...</td>\n",
       "      <td>...</td>\n",
       "    </tr>\n",
       "    <tr>\n",
       "      <th>16004</th>\n",
       "      <td>19913</td>\n",
       "      <td>Bob Zupcic</td>\n",
       "      <td>https://www.retrosheet.org/boxesetc/Z/Jzupcb00...</td>\n",
       "    </tr>\n",
       "    <tr>\n",
       "      <th>16005</th>\n",
       "      <td>19914</td>\n",
       "      <td>Frank Zupo</td>\n",
       "      <td>https://www.retrosheet.org/boxesetc/Z/Jzupof10...</td>\n",
       "    </tr>\n",
       "    <tr>\n",
       "      <th>16006</th>\n",
       "      <td>19915</td>\n",
       "      <td>Paul Zuvella</td>\n",
       "      <td>https://www.retrosheet.org/boxesetc/Z/Jzuvep00...</td>\n",
       "    </tr>\n",
       "    <tr>\n",
       "      <th>16007</th>\n",
       "      <td>19916</td>\n",
       "      <td>George Zuverink</td>\n",
       "      <td>https://www.retrosheet.org/boxesetc/Z/Jzuveg10...</td>\n",
       "    </tr>\n",
       "    <tr>\n",
       "      <th>16008</th>\n",
       "      <td>19917</td>\n",
       "      <td>Dutch Zwilling</td>\n",
       "      <td>https://www.retrosheet.org/boxesetc/Z/Jzwild10...</td>\n",
       "    </tr>\n",
       "  </tbody>\n",
       "</table>\n",
       "<p>16009 rows × 3 columns</p>\n",
       "</div>"
      ],
      "text/plain": [
       "          ID             Name  \\\n",
       "0          0    David Aardsma   \n",
       "1          1       Hank Aaron   \n",
       "2          2     Tommie Aaron   \n",
       "3          3         Don Aase   \n",
       "4          4        Andy Abad   \n",
       "...      ...              ...   \n",
       "16004  19913       Bob Zupcic   \n",
       "16005  19914       Frank Zupo   \n",
       "16006  19915     Paul Zuvella   \n",
       "16007  19916  George Zuverink   \n",
       "16008  19917   Dutch Zwilling   \n",
       "\n",
       "                                               split_url  \n",
       "0      https://www.retrosheet.org/boxesetc/A/Jaardd00...  \n",
       "1      https://www.retrosheet.org/boxesetc/A/Jaaroh10...  \n",
       "2      https://www.retrosheet.org/boxesetc/A/Jaarot10...  \n",
       "3      https://www.retrosheet.org/boxesetc/A/Jaased00...  \n",
       "4      https://www.retrosheet.org/boxesetc/A/Jabada00...  \n",
       "...                                                  ...  \n",
       "16004  https://www.retrosheet.org/boxesetc/Z/Jzupcb00...  \n",
       "16005  https://www.retrosheet.org/boxesetc/Z/Jzupof10...  \n",
       "16006  https://www.retrosheet.org/boxesetc/Z/Jzuvep00...  \n",
       "16007  https://www.retrosheet.org/boxesetc/Z/Jzuveg10...  \n",
       "16008  https://www.retrosheet.org/boxesetc/Z/Jzwild10...  \n",
       "\n",
       "[16009 rows x 3 columns]"
      ]
     },
     "execution_count": 19,
     "metadata": {},
     "output_type": "execute_result"
    }
   ],
   "source": [
    "df_player_career_stats = pd.read_csv(\"player_career_split_url.csv\", usecols = [\"ID\", \"Name\", \"split_url\"]);\n",
    "df_player_career_stats"
   ]
  },
  {
   "cell_type": "code",
   "execution_count": 12,
   "id": "ecc9be86",
   "metadata": {},
   "outputs": [],
   "source": [
    "# Process if have chance. Have a larger chance to be blocked by Retrosheet.\n",
    "df_player_yearly_stats = pd.read_csv(\"player_season_split_url.csv\", usecols = [\"ID\", \"Name\", \"Season\", \"Team\", \"split_url\"]);"
   ]
  },
  {
   "cell_type": "code",
   "execution_count": 20,
   "id": "30f9cac9",
   "metadata": {},
   "outputs": [],
   "source": [
    "url = df_player_career_stats.loc[1,\"split_url\"];\n",
    "url\n",
    "\n",
    "response = requests.get(url, headers=headers);\n",
    "text = BeautifulSoup(response.text, 'html.parser');\n",
    "\n",
    "if response.status_code != 200:\n",
    "    raise Exception(f\"The status code is not 200! It is {response.status_code}.\");"
   ]
  },
  {
   "cell_type": "code",
   "execution_count": 38,
   "id": "80f863fe",
   "metadata": {},
   "outputs": [
    {
     "name": "stdout",
     "output_type": "stream",
     "text": [
      "Found batting record chunk\n"
     ]
    },
    {
     "data": {
      "text/plain": [
       "'Away  1651  6396 1094 1960 341  61 370 1180  657 134  729  15   6  63   0 123 197  123  41  .306  .369  .552'"
      ]
     },
     "execution_count": 38,
     "metadata": {},
     "output_type": "execute_result"
    }
   ],
   "source": [
    "pret = text.findAll(\"pre\");\n",
    "\n",
    "for ta in pret:\n",
    "    if ta.get_text().find(\"Total\") != -1:\n",
    "        print(\"Found batting record chunk\");\n",
    "        break;\n",
    "\n",
    "ta.contents[0].splitlines()"
   ]
  },
  {
   "cell_type": "code",
   "execution_count": 34,
   "id": "3ba06d6e",
   "metadata": {},
   "outputs": [
    {
     "data": {
      "text/plain": [
       "1.0"
      ]
     },
     "execution_count": 34,
     "metadata": {},
     "output_type": "execute_result"
    }
   ],
   "source": []
  }
 ],
 "metadata": {
  "kernelspec": {
   "display_name": "Python 3",
   "language": "python",
   "name": "python3"
  },
  "language_info": {
   "codemirror_mode": {
    "name": "ipython",
    "version": 3
   },
   "file_extension": ".py",
   "mimetype": "text/x-python",
   "name": "python",
   "nbconvert_exporter": "python",
   "pygments_lexer": "ipython3",
   "version": "3.8.8"
  }
 },
 "nbformat": 4,
 "nbformat_minor": 5
}
